{
 "cells": [
  {
   "cell_type": "markdown",
   "metadata": {
    "deletable": false,
    "editable": false,
    "kernel": "SoS",
    "nbgrader": {
     "cell_type": "markdown",
     "checksum": "f3ae755267071ca8a982c3a95bbca19a",
     "grade": false,
     "grade_id": "c-001",
     "locked": true,
     "schema_version": 3,
     "solution": false,
     "task": false
    }
   },
   "source": [
    "\n",
    "#  Building a minC (minimum C) compiler"
   ]
  },
  {
   "cell_type": "markdown",
   "metadata": {
    "kernel": "SoS",
    "nbgrader": {
     "grade": false,
     "grade_id": "c-002",
     "locked": false,
     "schema_version": 3,
     "solution": false,
     "task": false
    }
   },
   "source": [
    "\n",
    "Enter your name and student ID.\n",
    "\n",
    " * Name: Hiroto Uchida\n",
    " * Student ID: 03240406\n"
   ]
  },
  {
   "cell_type": "markdown",
   "metadata": {
    "deletable": false,
    "editable": false,
    "kernel": "SoS",
    "nbgrader": {
     "cell_type": "markdown",
     "checksum": "55829600ffd4f62457ab5b4594f269f3",
     "grade": false,
     "grade_id": "c-003",
     "locked": true,
     "schema_version": 3,
     "solution": false,
     "task": false
    }
   },
   "source": [
    "\n",
    "<a name=\"intro\"> </a>\n",
    "# 1. Introduction\n",
    "* This is the instruction for those who choose Option A for the term report\n",
    "* You build a compiler for a minimum subset of C language, dubbed 'minC'\n",
    "* This page explains how you should work on it, but <font color=\"red\">your actual work is supposed to be done mostly in terminal and text editor</font>\n"
   ]
  },
  {
   "cell_type": "markdown",
   "metadata": {
    "deletable": false,
    "editable": false,
    "kernel": "SoS",
    "nbgrader": {
     "cell_type": "markdown",
     "checksum": "1c71abd68faeb801cf9dcc797dcb0595",
     "grade": false,
     "grade_id": "c-004",
     "locked": true,
     "schema_version": 3,
     "solution": false,
     "task": false
    }
   },
   "source": [
    "# 2. Prepare AI Tutor\n",
    "* execute the following cell to set up your tutor"
   ]
  },
  {
   "cell_type": "code",
   "execution_count": 1,
   "metadata": {
    "kernel": "Python 3 (ipykernel)",
    "nbgrader": {
     "grade": false,
     "grade_id": "c-005",
     "locked": false,
     "schema_version": 3,
     "solution": false,
     "task": false
    },
    "vscode": {
     "languageId": "ocaml"
    }
   },
   "outputs": [],
   "source": [
    "from heytutor import *\n",
    "config(default_lang=\"OCaml\")  # choose one of Go/Julia/OCaml/Rust"
   ]
  },
  {
   "cell_type": "markdown",
   "metadata": {
    "deletable": false,
    "editable": false,
    "kernel": "SoS",
    "nbgrader": {
     "cell_type": "markdown",
     "checksum": "c6988ac8e847cc1f98ac107d277bc058",
     "grade": false,
     "grade_id": "c-006",
     "locked": true,
     "schema_version": 3,
     "solution": false,
     "task": false
    }
   },
   "source": [
    "* you may want to ask a few basics"
   ]
  },
  {
   "cell_type": "code",
   "execution_count": 3,
   "metadata": {
    "kernel": "Python 3 (ipykernel)",
    "nbgrader": {
     "grade": false,
     "grade_id": "c-007",
     "locked": false,
     "schema_version": 3,
     "solution": false,
     "task": false
    },
    "vscode": {
     "languageId": "ocaml"
    }
   },
   "outputs": [
    {
     "data": {
      "text/markdown": [
       "ARM64 のアセンブリコードで引数を読み込み、それを操作して結果を返す関数は、レジスタ `x0` や `x1` を通じて行います。以下は、関数 `f`（与えられた引数 `x` を `x/2/3` にして返す関数）がどのように記述されるかについての説明です。\n",
       "\n",
       "---\n",
       "\n",
       "### 想定される C 言語関数:\n",
       "```c\n",
       "int f(int x) {\n",
       "    return x / 2 / 3;\n",
       "}\n",
       "```\n",
       "\n",
       "この関数の動作は以下のステップを行います:\n",
       "1. 入力は `x`（ここでは `int` 型）。\n",
       "2. `x` を 2 で割り、その結果を更に 3 で割る。\n",
       "3. 割り算の結果を返す。\n",
       "\n",
       "`x` は ARM64 の calling convention に基づき、レジスタ `x0` に渡されます。戻り値も `x0` に格納されます。\n",
       "\n",
       "---\n",
       "\n",
       "### ARM64 アセンブリコード:\n",
       "\n",
       "```assembly\n",
       "// 引数: x (x0) を受け取り、結果を返す。\n",
       "f:\n",
       "    MOV x1, #2          // レジスタ x1 に 2 を格納\n",
       "    SDIV x0, x0, x1     // x0 = x0 / x1 (x を 2 で割る)\n",
       "\n",
       "    MOV x1, #3          // レジスタ x1 に 3 を格納\n",
       "    SDIV x0, x0, x1     // x0 = x0 / x1 (結果を 3 で割る)\n",
       "\n",
       "    RET                 // 関数を終了し、結果 (x0) を戻り値として返す\n",
       "```\n",
       "\n",
       "---\n",
       "\n",
       "### 説明:\n",
       "\n",
       "1. レジスタ `x0`:\n",
       "   - 呼び出し規約により、引数 `x` が渡される。\n",
       "   - 返す値も `x0` に格納される。\n",
       "\n",
       "2. `MOV` 命令:\n",
       "   - 定数（例えば 2 や 3）をワーク用レジスタ（`x1`）に格納する。\n",
       "   - ARM64 アーキテクチャでは、割り算の除数をレジスタに保持する必要があるため、`MOV` で設定。\n",
       "\n",
       "3. `SDIV` 命令（Signed Division）:\n",
       "   - ARM64 の整数型除算命令。\n",
       "   - 第一オペランドを第二オペランドで割り、その結果を先頭オペランドに格納する。\n",
       "     - 例:`SDIV x0, x0, x1` は `x0 = x0 / x1` を意味する。\n",
       "\n",
       "4. `RET` 命令:\n",
       "   - 関数を終了し、戻り値として `x0` を呼び出し元へ返す。\n",
       "\n",
       "---\n",
       "\n",
       "### 呼び出し元コードの例:\n",
       "\n",
       "この関数を呼び出すコードがコンパイラによって生成される場合、次のような手順で値を渡し、結果を受け取ります:\n",
       "\n",
       "```assembly\n",
       "MOV x0, #18        // 引数 x = 18 を設定\n",
       "BL f               // 関数 f を呼び出し、戻り値が x0 に格納される\n",
       "// x0 に結果 (18 / 2 / 3 = 3) が格納される\n",
       "```\n",
       "\n",
       "---\n",
       "\n",
       "### 実行の流れ：\n",
       "\n",
       "1. `x` が `x0` に渡される（例では `x = 18`）。\n",
       "2. 関数内で `x/2` 計算（結果は 9）。\n",
       "3. 次に `9/3` を計算（結果は 3）。\n",
       "4. 最終結果（3）が `x0` に格納され、返される。\n",
       "\n",
       "このアセンブリコードは、整数演算限定の例です。浮動小数点の場合には、`SDIV` の代わりに浮動小数点除算命令（`FDIV` 等）を使用します。\n",
       "\n",
       "何か別の細かい点や質問があれば、ぜひ教えてくださいね！ 😊"
      ],
      "text/plain": [
       "<IPython.core.display.Markdown object>"
      ]
     },
     "metadata": {},
     "output_type": "display_data"
    }
   ],
   "source": [
    "hey(\"\"\"ARM64で引数を読み込む時、アセンブリコードでx0とx1はどのように使用しますか、例えば x / 2/ 3を返す関数fはどのように記述されますか？\"\"\")"
   ]
  },
  {
   "cell_type": "markdown",
   "metadata": {
    "deletable": false,
    "editable": false,
    "kernel": "SoS",
    "nbgrader": {
     "cell_type": "markdown",
     "checksum": "ea9360600fb60b37fb014c4b2ae84f1f",
     "grade": false,
     "grade_id": "c-008",
     "locked": true,
     "schema_version": 3,
     "solution": false,
     "task": false
    }
   },
   "source": [
    "\n",
    "# 3. Files\n",
    "* `parser/` : a C -> XML parser written in Python + tatsu (parser generator), which converts a C source into an equivalent XML\n",
    "* `{ml,jl,go,rs}/minc` : a directory for each language\n",
    "* `test/` : test programs\n",
    "\n",
    "# 4. Parser (C -> XML)\n",
    "* `minc_grammar.y` : grammar definition of the minimum C language we work on, which is converted into a working python program (`minc_grammar.py`) using [tatsu](https://github.com/neogeny/TatSu) parser generator library"
   ]
  },
  {
   "cell_type": "code",
   "execution_count": 68,
   "metadata": {
    "kernel": "Bash",
    "nbgrader": {
     "grade": false,
     "grade_id": "c-009",
     "locked": false,
     "schema_version": 3,
     "solution": false,
     "task": false
    },
    "vscode": {
     "languageId": "ocaml"
    }
   },
   "outputs": [
    {
     "name": "stdout",
     "output_type": "stream",
     "text": [
      "------------------------------------------------------------------------\n",
      "         409  lines in grammar\n",
      "          21  rules in grammar\n",
      "         209  nodes in AST\n"
     ]
    }
   ],
   "source": [
    "cd ~/notebooks/pl08_minc/parser\n",
    "tatsu minc_grammar.y > minc_grammar.py"
   ]
  },
  {
   "cell_type": "markdown",
   "metadata": {
    "deletable": false,
    "editable": false,
    "kernel": "SoS",
    "nbgrader": {
     "cell_type": "markdown",
     "checksum": "e001c482d70977b5812b2efde854fba1",
     "grade": false,
     "grade_id": "c-010",
     "locked": true,
     "schema_version": 3,
     "solution": false,
     "task": false
    }
   },
   "source": [
    "* `minc_to_xml.py` : the main parser program that drives minc_grammar.py to convert a C source into an equivalent XML"
   ]
  },
  {
   "cell_type": "code",
   "execution_count": 69,
   "metadata": {
    "kernel": "Bash",
    "nbgrader": {
     "grade": false,
     "grade_id": "c-011",
     "locked": false,
     "schema_version": 3,
     "solution": false,
     "task": false
    },
    "vscode": {
     "languageId": "ocaml"
    }
   },
   "outputs": [],
   "source": [
    "python minc_to_xml.py example/ex.c > ex.xml"
   ]
  },
  {
   "cell_type": "markdown",
   "metadata": {
    "deletable": false,
    "editable": false,
    "kernel": "SoS",
    "nbgrader": {
     "cell_type": "markdown",
     "checksum": "2a2c87c5e8ccb8e18fc049b8be1bd590",
     "grade": false,
     "grade_id": "c-012",
     "locked": true,
     "schema_version": 3,
     "solution": false,
     "task": false
    }
   },
   "source": [
    "* examine the result and understand how each C construct is converted into XML"
   ]
  },
  {
   "cell_type": "code",
   "execution_count": 70,
   "metadata": {
    "kernel": "Bash",
    "nbgrader": {
     "grade": false,
     "grade_id": "c-013",
     "locked": false,
     "schema_version": 3,
     "solution": false,
     "task": false
    },
    "vscode": {
     "languageId": "ocaml"
    }
   },
   "outputs": [
    {
     "name": "stdout",
     "output_type": "stream",
     "text": [
      "long f(long x, long y) {\n",
      "  long u;\n",
      "  u = x + y;\n",
      "  return u * 3;\n",
      "}\n"
     ]
    }
   ],
   "source": [
    "cat example/ex.c "
   ]
  },
  {
   "cell_type": "code",
   "execution_count": 68,
   "metadata": {
    "kernel": "Bash",
    "nbgrader": {
     "grade": false,
     "grade_id": "c-014",
     "locked": false,
     "schema_version": 3,
     "solution": false,
     "task": false
    },
    "vscode": {
     "languageId": "ocaml"
    }
   },
   "outputs": [
    {
     "name": "stdout",
     "output_type": "stream",
     "text": [
      "<program xmlns=\"https://program.com\">\n",
      " <fun_def>\n",
      "  <name>f</name>\n",
      "  <params>\n",
      "   <param>\n",
      "    <type>\n",
      "     <primitive_type>long</primitive_type>\n",
      "    </type>\n",
      "    <name>x</name>\n",
      "   </param>\n",
      "   <param>\n",
      "    <type>\n",
      "     <primitive_type>long</primitive_type>\n",
      "    </type>\n",
      "    <name>y</name>\n",
      "   </param>\n",
      "  </params>\n",
      "  <return_type>\n",
      "   <primitive_type>long</primitive_type>\n",
      "  </return_type>\n",
      "  <body>\n",
      "   <compound>\n",
      "    <decls>\n",
      "     <decl>\n",
      "      <type>\n",
      "       <primitive_type>long</primitive_type>\n",
      "      </type>\n",
      "      <name>u</name>\n",
      "     </decl>\n",
      "    </decls>\n",
      "    <stmts>\n",
      "     <expr_stmt>\n",
      "      <bin_op>\n",
      "       <op>=</op>\n",
      "       <left>\n",
      "        <var>u</var>\n",
      "       </left>\n",
      "       <right>\n",
      "        <bin_op>\n",
      "         <op>+</op>\n",
      "         <left>\n",
      "          <var>x</var>\n",
      "         </left>\n",
      "         <right>\n",
      "          <var>y</var>\n",
      "         </right>\n",
      "        </bin_op>\n",
      "       </right>\n",
      "      </bin_op>\n",
      "     </expr_stmt>\n",
      "     <return>\n",
      "      <bin_op>\n",
      "       <op>*</op>\n",
      "       <left>\n",
      "        <var>u</var>\n",
      "       </left>\n",
      "       <right>\n",
      "        <int_literal>3</int_literal>\n",
      "       </right>\n",
      "      </bin_op>\n",
      "     </return>\n",
      "    </stmts>\n",
      "   </compound>\n",
      "  </body>\n",
      " </fun_def>\n",
      "</program>\n",
      "\n"
     ]
    }
   ],
   "source": [
    "cat ex.xml"
   ]
  },
  {
   "cell_type": "markdown",
   "metadata": {
    "deletable": false,
    "editable": false,
    "kernel": "SoS",
    "nbgrader": {
     "cell_type": "markdown",
     "checksum": "128186ca9a66b8cef4bfd5a664f2078a",
     "grade": false,
     "grade_id": "c-015",
     "locked": true,
     "schema_version": 3,
     "solution": false,
     "task": false
    }
   },
   "source": [
    "* you don't have to modify `minc_grammar.y` or `minc_to_xml.py` unless you extend the grammar for extra points\n",
    "* yet you are encouraged to see how simple does tatsu (or any parser generator, for that matter) make it to write a parser; just take a look at `minc_grammar.y`\n",
    "\n",
    "##  Note: why are we using XML?\n",
    "* it is unnecessary and unusual to convert the source program first into XML and then to the abstract syntax tree\n",
    "* more commonly, you use a parser generator for the language you write your compiler with (OCaml, Julia, Go, or Rust), which allows you to directly build the abstract syntax tree you can manipulate in that language\n",
    "* for example, C/C++ has [flex](https://en.wikipedia.org/wiki/Flex)/[bison](https://en.wikipedia.org/wiki/GNU_Bison) parser generator, whose grammar description file (analogous to minc_grammar.y) allows you to build any C/C++ data structure in it; OCaml has [ocamllex/ocamlyacc](https://v2.ocaml.org/manual/lexyacc.html) ([Menhir](http://gallium.inria.fr/~fpottier/menhir/) is a newer version of ocamlyacc).  there is a parser generator that supports multiple languages, most notably [ANTLR](https://www.antlr.org/), which supports Java and Python code generation.  in circumstances where there is a tool available for your language, it is much more straightforward and convenient to use these tools without going through XML\n",
    "* the reasons why we go through XML are\n",
    "  * I could not find a popular parser generator for some of the languages (Go and Julia)\n",
    "  * even if one exists in each language, there will be differences between them that make it difficult/tricky/cumbersome to explain them\n",
    "* so I arrived at a parser generator (tatsu) for Python as a common middle ground and XML as a common data structure all languages can easily read\n"
   ]
  },
  {
   "cell_type": "markdown",
   "metadata": {
    "deletable": false,
    "editable": false,
    "kernel": "SoS",
    "nbgrader": {
     "cell_type": "markdown",
     "checksum": "69984e706a147db1c153465214d60244",
     "grade": false,
     "grade_id": "c-016",
     "locked": true,
     "schema_version": 3,
     "solution": false,
     "task": false
    }
   },
   "source": [
    "# 5. {go,jl,ml,rs}/minc\n",
    "* in each language-specific directory (`go, jl, ml, rs`) , there is a toplevel directory `minc`\n",
    "* the code given there is a skeleton of a compiler that reads an XML file, builds its abstract syntax tree, and finally calls the code generator\n",
    "* the code generator is currently almost empty and raises an exception when called\n",
    "* your main job in the assignment is to complete the code generator"
   ]
  },
  {
   "cell_type": "markdown",
   "metadata": {
    "deletable": false,
    "editable": false,
    "kernel": "SoS",
    "nbgrader": {
     "cell_type": "markdown",
     "checksum": "931c374662c20111d2602425688fa84c",
     "grade": false,
     "grade_id": "c-017",
     "locked": true,
     "schema_version": 3,
     "solution": false,
     "task": false
    }
   },
   "source": [
    "## 5-1. Go\n",
    "###  files\n",
    "* `go/`\n",
    "  * `minc/`\n",
    "    * `minc_ast.go` --- abstract syntax tree (AST) definition\n",
    "    * `minc_parse.go` --- XML -> AST converter\n",
    "    * `minc_cogen.go` --- AST -> assembly code\n",
    "    * `minc.go` --- the main file\n",
    "\n",
    "###  build"
   ]
  },
  {
   "cell_type": "code",
   "execution_count": null,
   "metadata": {
    "kernel": "Bash",
    "nbgrader": {
     "grade": false,
     "grade_id": "c-018",
     "locked": false,
     "schema_version": 3,
     "solution": false,
     "task": false
    },
    "vscode": {
     "languageId": "ocaml"
    }
   },
   "outputs": [],
   "source": [
    "export PATH=~/go/bin:$PATH\n",
    "cd ~/notebooks/pl08_minc/go/minc\n",
    "ls -lR"
   ]
  },
  {
   "cell_type": "code",
   "execution_count": null,
   "metadata": {
    "kernel": "Bash",
    "nbgrader": {
     "grade": false,
     "grade_id": "c-019",
     "locked": false,
     "schema_version": 3,
     "solution": false,
     "task": false
    },
    "vscode": {
     "languageId": "ocaml"
    }
   },
   "outputs": [],
   "source": [
    "go build"
   ]
  },
  {
   "cell_type": "markdown",
   "metadata": {
    "deletable": false,
    "editable": false,
    "kernel": "SoS",
    "nbgrader": {
     "cell_type": "markdown",
     "checksum": "bda6bc6c546782c1b91e508c1b9731f3",
     "grade": false,
     "grade_id": "c-020",
     "locked": true,
     "schema_version": 3,
     "solution": false,
     "task": false
    }
   },
   "source": [
    "###  run\n",
    "* be sure you have generated ex.xml by `minc_to_xml.py`\n",
    "* try to compile a small program and see that the code generator raises an exception\n"
   ]
  },
  {
   "cell_type": "code",
   "execution_count": null,
   "metadata": {
    "kernel": "Bash",
    "nbgrader": {
     "grade": false,
     "grade_id": "c-021",
     "locked": false,
     "schema_version": 3,
     "solution": false,
     "task": false
    },
    "vscode": {
     "languageId": "ocaml"
    }
   },
   "outputs": [],
   "source": [
    "./minc ../../parser/ex.xml ex.s"
   ]
  },
  {
   "cell_type": "markdown",
   "metadata": {
    "deletable": false,
    "editable": false,
    "kernel": "SoS",
    "nbgrader": {
     "cell_type": "markdown",
     "checksum": "e611e751f210854f463ec8a354148f3f",
     "grade": false,
     "grade_id": "c-022",
     "locked": true,
     "schema_version": 3,
     "solution": false,
     "task": false
    }
   },
   "source": [
    "* take a look at the source code that caused the exception"
   ]
  },
  {
   "cell_type": "code",
   "execution_count": null,
   "metadata": {
    "kernel": "Bash",
    "nbgrader": {
     "grade": false,
     "grade_id": "c-023",
     "locked": false,
     "schema_version": 3,
     "solution": false,
     "task": false
    },
    "vscode": {
     "languageId": "ocaml"
    }
   },
   "outputs": [],
   "source": [
    "cat minc_cogen.go"
   ]
  },
  {
   "cell_type": "markdown",
   "metadata": {
    "deletable": false,
    "editable": false,
    "kernel": "SoS",
    "nbgrader": {
     "cell_type": "markdown",
     "checksum": "50c4268f44a39c7e1924eaac135aaa79",
     "grade": false,
     "grade_id": "c-024",
     "locked": true,
     "schema_version": 3,
     "solution": false,
     "task": false
    }
   },
   "source": [
    "* your job is to implement `ast_to_asm_program` function"
   ]
  },
  {
   "cell_type": "markdown",
   "metadata": {
    "deletable": false,
    "editable": false,
    "kernel": "SoS",
    "nbgrader": {
     "cell_type": "markdown",
     "checksum": "5a46126cb34b98f7fa6be5fa5dcc44a3",
     "grade": false,
     "grade_id": "c-025",
     "locked": true,
     "schema_version": 3,
     "solution": false,
     "task": false
    }
   },
   "source": [
    "## 5-2. Julia\n",
    "###  files\n",
    "* `jl/`\n",
    "  * `minc/`\n",
    "    * `minc_ast.jl` --- abstract syntax tree (AST) definition\n",
    "    * `minc_parse.jl` --- XML -> AST converter\n",
    "    * `minc_cogen.jl` --- AST -> assembly code\n",
    "    * `minc.jl` --- the main file\n",
    "\n",
    "###  build"
   ]
  },
  {
   "cell_type": "code",
   "execution_count": null,
   "metadata": {
    "kernel": "Bash",
    "nbgrader": {
     "grade": false,
     "grade_id": "c-026",
     "locked": false,
     "schema_version": 3,
     "solution": false,
     "task": false
    },
    "vscode": {
     "languageId": "ocaml"
    }
   },
   "outputs": [],
   "source": [
    "export PATH=~/.juliaup/bin:$PATH\n",
    "cd ~/notebooks/pl08_minc/jl/minc\n",
    "ls -lR"
   ]
  },
  {
   "cell_type": "code",
   "execution_count": null,
   "metadata": {
    "kernel": "Bash",
    "nbgrader": {
     "grade": false,
     "grade_id": "c-027",
     "locked": false,
     "schema_version": 3,
     "solution": false,
     "task": false
    },
    "vscode": {
     "languageId": "ocaml"
    }
   },
   "outputs": [],
   "source": [
    "chmod +x minc.jl"
   ]
  },
  {
   "cell_type": "markdown",
   "metadata": {
    "deletable": false,
    "editable": false,
    "kernel": "SoS",
    "nbgrader": {
     "cell_type": "markdown",
     "checksum": "886744367a84cc0973dc41b74d79b47f",
     "grade": false,
     "grade_id": "c-028",
     "locked": true,
     "schema_version": 3,
     "solution": false,
     "task": false
    }
   },
   "source": [
    "###  run\n",
    "* be sure you have generated ex.xml by `minc_to_xml.py`\n",
    "* try to compile a small program and see that the code generator raises an exception\n"
   ]
  },
  {
   "cell_type": "code",
   "execution_count": null,
   "metadata": {
    "kernel": "Bash",
    "nbgrader": {
     "grade": false,
     "grade_id": "c-029",
     "locked": false,
     "schema_version": 3,
     "solution": false,
     "task": false
    },
    "vscode": {
     "languageId": "ocaml"
    }
   },
   "outputs": [],
   "source": [
    "./minc.jl ../../parser/ex.xml ex.s"
   ]
  },
  {
   "cell_type": "markdown",
   "metadata": {
    "deletable": false,
    "editable": false,
    "kernel": "SoS",
    "nbgrader": {
     "cell_type": "markdown",
     "checksum": "71e0e313ce98c1129aa1c12de0d46e32",
     "grade": false,
     "grade_id": "c-030",
     "locked": true,
     "schema_version": 3,
     "solution": false,
     "task": false
    }
   },
   "source": [
    "* take a look at the source code that caused the exception"
   ]
  },
  {
   "cell_type": "code",
   "execution_count": null,
   "metadata": {
    "kernel": "Bash",
    "nbgrader": {
     "grade": false,
     "grade_id": "c-031",
     "locked": false,
     "schema_version": 3,
     "solution": false,
     "task": false
    },
    "vscode": {
     "languageId": "ocaml"
    }
   },
   "outputs": [],
   "source": [
    "cat minc_cogen.jl"
   ]
  },
  {
   "cell_type": "markdown",
   "metadata": {
    "deletable": false,
    "editable": false,
    "kernel": "SoS",
    "nbgrader": {
     "cell_type": "markdown",
     "checksum": "609ad28dd7f05e0dd277549d78999670",
     "grade": false,
     "grade_id": "c-032",
     "locked": true,
     "schema_version": 3,
     "solution": false,
     "task": false
    }
   },
   "source": [
    "* your job is to implement `ast_to_asm_program` function"
   ]
  },
  {
   "cell_type": "markdown",
   "metadata": {
    "deletable": false,
    "editable": false,
    "kernel": "SoS",
    "nbgrader": {
     "cell_type": "markdown",
     "checksum": "094aa1152c40116da66813a556819168",
     "grade": false,
     "grade_id": "c-033",
     "locked": true,
     "schema_version": 3,
     "solution": false,
     "task": false
    }
   },
   "source": [
    "## 5-3. OCaml\n",
    "###  files\n",
    "* `ml/`\n",
    "  * `minc/`\n",
    "    * `libs/`\n",
    "      * `minc_ast.ml` --- abstract syntax tree (AST) definition\n",
    "      * `minc_parse.ml` --- XML -> AST converter\n",
    "      * `minc_cogen.ml` --- AST -> assembly code\n",
    "      * `dune` --- describes dependencies between them\n",
    "    * `bin/`\n",
    "      * `main.ml` --- the main file\n",
    "\n",
    "###  build"
   ]
  },
  {
   "cell_type": "code",
   "execution_count": 13,
   "metadata": {},
   "outputs": [
    {
     "name": "stdout",
     "output_type": "stream",
     "text": [
      "bash: cd: ../../test: No such file or directory\n",
      "/home/u25067/notebooks/pl08_minc/test\n",
      "<program xmlns=\"https://program.com\">\n",
      " <fun_def>\n",
      "  <name>f</name>\n",
      "  <params>\n",
      "   <param>\n",
      "    <type>\n",
      "     <primitive_type>long</primitive_type>\n",
      "    </type>\n",
      "    <name>x</name>\n",
      "   </param>\n",
      "  </params>\n",
      "  <return_type>\n",
      "   <primitive_type>long</primitive_type>\n",
      "  </return_type>\n",
      "  <body>\n",
      "   <compound>\n",
      "    <decls/>\n",
      "    <stmts>\n",
      "     <return>\n",
      "      <bin_op>\n",
      "       <op>/</op>\n",
      "       <left>\n",
      "        <bin_op>\n",
      "         <op>/</op>\n",
      "         <left>\n",
      "          <var>x</var>\n",
      "         </left>\n",
      "         <right>\n",
      "          <int_literal>2</int_literal>\n",
      "         </right>\n",
      "        </bin_op>\n",
      "       </left>\n",
      "       <right>\n",
      "        <int_literal>3</int_literal>\n",
      "       </right>\n",
      "      </bin_op>\n",
      "     </return>\n",
      "    </stmts>\n",
      "   </compound>\n",
      "  </body>\n",
      " </fun_def>\n",
      "</program>\n",
      "\n"
     ]
    }
   ],
   "source": [
    "cd ../../test\n",
    "pwd\n",
    "python3 ../parser/minc_to_xml.py src/f31.c > xml/f31.xml && cat xml/f31.xml"
   ]
  },
  {
   "cell_type": "code",
   "execution_count": 285,
   "metadata": {
    "kernel": "Bash",
    "nbgrader": {
     "grade": false,
     "grade_id": "c-034",
     "locked": false,
     "schema_version": 3,
     "solution": false,
     "task": false
    },
    "vscode": {
     "languageId": "ocaml"
    }
   },
   "outputs": [],
   "source": [
    "eval $(opam env)\n",
    "cd ~/notebooks/pl08_minc/ml/minc\n",
    "# ls -lR"
   ]
  },
  {
   "cell_type": "code",
   "execution_count": 286,
   "metadata": {
    "kernel": "Bash",
    "nbgrader": {
     "grade": false,
     "grade_id": "c-035",
     "locked": false,
     "schema_version": 3,
     "solution": false,
     "task": false
    },
    "vscode": {
     "languageId": "ocaml"
    }
   },
   "outputs": [
    {
     "name": "stdout",
     "output_type": "stream",
     "text": [
      "Command 'dune' not found, but can be installed with:\n",
      "apt install ocaml-dune\n",
      "Please ask your administrator.\n"
     ]
    },
    {
     "ename": "",
     "evalue": "127",
     "output_type": "error",
     "traceback": []
    }
   ],
   "source": [
    "# dune init project minc\n",
    "dune build"
   ]
  },
  {
   "cell_type": "markdown",
   "metadata": {
    "deletable": false,
    "editable": false,
    "kernel": "SoS",
    "nbgrader": {
     "cell_type": "markdown",
     "checksum": "c2fd32936fc392f6269d23b04aeff9aa",
     "grade": false,
     "grade_id": "c-036",
     "locked": true,
     "schema_version": 3,
     "solution": false,
     "task": false
    }
   },
   "source": [
    "###  run\n",
    "* be sure you have generated ex.xml by `minc_to_xml.py`\n",
    "* try to compile a small program and see that the code generator raises an exception\n"
   ]
  },
  {
   "cell_type": "code",
   "execution_count": 3,
   "metadata": {
    "kernel": "Bash",
    "nbgrader": {
     "grade": false,
     "grade_id": "c-037",
     "locked": false,
     "schema_version": 3,
     "solution": false,
     "task": false
    },
    "vscode": {
     "languageId": "ocaml"
    }
   },
   "outputs": [],
   "source": [
    "_build/default/bin/main.exe ../../parser/ex.xml ex.s"
   ]
  },
  {
   "cell_type": "markdown",
   "metadata": {
    "deletable": false,
    "editable": false,
    "kernel": "SoS",
    "nbgrader": {
     "cell_type": "markdown",
     "checksum": "4fd39b98316e7ef73ee36f371dc4c2bc",
     "grade": false,
     "grade_id": "c-038",
     "locked": true,
     "schema_version": 3,
     "solution": false,
     "task": false
    }
   },
   "source": [
    "* take a look at the source code that caused the exception"
   ]
  },
  {
   "cell_type": "code",
   "execution_count": 57,
   "metadata": {
    "kernel": "Bash",
    "nbgrader": {
     "grade": false,
     "grade_id": "c-039",
     "locked": false,
     "schema_version": 3,
     "solution": false,
     "task": false
    },
    "vscode": {
     "languageId": "ocaml"
    }
   },
   "outputs": [],
   "source": [
    "cat lib/minc_cogen.ml"
   ]
  },
  {
   "cell_type": "markdown",
   "metadata": {
    "deletable": false,
    "editable": false,
    "kernel": "SoS",
    "nbgrader": {
     "cell_type": "markdown",
     "checksum": "3f5acf07599e28a1eb38d6943ad27f98",
     "grade": false,
     "grade_id": "c-040",
     "locked": true,
     "schema_version": 3,
     "solution": false,
     "task": false
    }
   },
   "source": [
    "* your job is to implement `ast_to_asm_program` function"
   ]
  },
  {
   "cell_type": "markdown",
   "metadata": {
    "deletable": false,
    "editable": false,
    "kernel": "SoS",
    "nbgrader": {
     "cell_type": "markdown",
     "checksum": "8c7e46e6e2963feb009cff4127ce87b6",
     "grade": false,
     "grade_id": "c-041",
     "locked": true,
     "schema_version": 3,
     "solution": false,
     "task": false
    }
   },
   "source": [
    "## 5-4. Rust\n",
    "###  files\n",
    "* `rs/`\n",
    "  * `minc/`\n",
    "    * `src/`\n",
    "      * `minc_ast.rs` --- abstract syntax tree (AST) definition\n",
    "      * `minc_parse.rs` --- XML -> AST converter\n",
    "      * `minc_cogen.rs` --- AST -> assembly code\n",
    "      * `main.rs` --- the main file\n",
    "\n",
    "###  build"
   ]
  },
  {
   "cell_type": "code",
   "execution_count": 180,
   "metadata": {
    "kernel": "Bash",
    "nbgrader": {
     "grade": false,
     "grade_id": "c-042",
     "locked": false,
     "schema_version": 3,
     "solution": false,
     "task": false
    },
    "vscode": {
     "languageId": "ocaml"
    }
   },
   "outputs": [
    {
     "name": "stdout",
     "output_type": "stream",
     "text": [
      ".:\n",
      "total 12\n",
      "-rw-r--r-- 1 u25067 u25067 2353 Jun 23 00:55 Cargo.lock\n",
      "-rw-r--r-- 1 u25067 u25067  187 Jun 23 00:55 Cargo.toml\n",
      "drwxr-xr-x 2 u25067 u25067 4096 Jun 23 00:55 src\n",
      "\n",
      "./src:\n",
      "total 32\n",
      "-rw-r--r-- 1 u25067 u25067   963 Jun 23 00:55 main.rs\n",
      "-rw-r--r-- 1 u25067 u25067  5561 Jun 23 00:55 minc_ast.rs\n",
      "-rw-r--r-- 1 u25067 u25067   375 Jun 23 00:55 minc_cogen.rs\n",
      "-rw-r--r-- 1 u25067 u25067 13184 Jun 23 00:55 minc_parse.rs\n"
     ]
    }
   ],
   "source": [
    ". ~/.cargo/env\n",
    "cd ~/notebooks/pl08_minc/rs/minc\n",
    "ls -lR"
   ]
  },
  {
   "cell_type": "code",
   "execution_count": null,
   "metadata": {
    "kernel": "Bash",
    "nbgrader": {
     "grade": false,
     "grade_id": "c-043",
     "locked": false,
     "schema_version": 3,
     "solution": false,
     "task": false
    },
    "vscode": {
     "languageId": "ocaml"
    }
   },
   "outputs": [],
   "source": [
    "cargo build"
   ]
  },
  {
   "cell_type": "markdown",
   "metadata": {
    "deletable": false,
    "editable": false,
    "kernel": "SoS",
    "nbgrader": {
     "cell_type": "markdown",
     "checksum": "9f4cae7fda0f22e912a8a931a09d36dd",
     "grade": false,
     "grade_id": "c-044",
     "locked": true,
     "schema_version": 3,
     "solution": false,
     "task": false
    }
   },
   "source": [
    "###  run\n",
    "* be sure you have generated ex.xml by `minc_to_xml.py`\n",
    "* try to compile a small program and see that the code generator raises an exception\n"
   ]
  },
  {
   "cell_type": "code",
   "execution_count": 32,
   "metadata": {
    "kernel": "Bash",
    "nbgrader": {
     "grade": false,
     "grade_id": "c-045",
     "locked": false,
     "schema_version": 3,
     "solution": false,
     "task": false
    },
    "vscode": {
     "languageId": "ocaml"
    }
   },
   "outputs": [
    {
     "name": "stdout",
     "output_type": "stream",
     "text": [
      "bash: ./target/debug/minc: No such file or directory\n"
     ]
    },
    {
     "ename": "",
     "evalue": "127",
     "output_type": "error",
     "traceback": []
    }
   ],
   "source": [
    "./target/debug/minc ../../parser/ex.xml ex.s"
   ]
  },
  {
   "cell_type": "markdown",
   "metadata": {
    "deletable": false,
    "editable": false,
    "kernel": "SoS",
    "nbgrader": {
     "cell_type": "markdown",
     "checksum": "b4c86c7e2d6897ab079b9ab344682db3",
     "grade": false,
     "grade_id": "c-046",
     "locked": true,
     "schema_version": 3,
     "solution": false,
     "task": false
    }
   },
   "source": [
    "* take a look at the source code that caused the exception"
   ]
  },
  {
   "cell_type": "code",
   "execution_count": null,
   "metadata": {
    "kernel": "Bash",
    "nbgrader": {
     "grade": false,
     "grade_id": "c-047",
     "locked": false,
     "schema_version": 3,
     "solution": false,
     "task": false
    },
    "vscode": {
     "languageId": "ocaml"
    }
   },
   "outputs": [],
   "source": [
    "cat src/minc_cogen.rs"
   ]
  },
  {
   "cell_type": "markdown",
   "metadata": {
    "deletable": false,
    "editable": false,
    "kernel": "SoS",
    "nbgrader": {
     "cell_type": "markdown",
     "checksum": "d3f554208b1f51e27ad21f29723b873e",
     "grade": false,
     "grade_id": "c-048",
     "locked": true,
     "schema_version": 3,
     "solution": false,
     "task": false
    }
   },
   "source": [
    "* your job is to implement `ast_to_asm_program` function"
   ]
  },
  {
   "cell_type": "markdown",
   "metadata": {
    "deletable": false,
    "editable": false,
    "kernel": "SoS",
    "nbgrader": {
     "cell_type": "markdown",
     "checksum": "3fa7b9849c869236e66e5cdbba379718",
     "grade": false,
     "grade_id": "c-049",
     "locked": true,
     "schema_version": 3,
     "solution": false,
     "task": false
    }
   },
   "source": [
    "\n",
    "# 6. test\n",
    "* your primary goal is to pass all the tests\n",
    "\n",
    "##  files\n",
    "* `test/`\n",
    "  * `src/` \n",
    "    * `f00.c, f01.c, f02.c, ..., ` --- test programs each definint a function `f`\n",
    "  * `main.c` --- a file that calls function `f`\n",
    "  * `Makefile` --- executes all the tests\n",
    "\n",
    "the `Makefile` does the following for each test program (`src/f00.c, src/f01.c,` ...)\n",
    "\n",
    "1. convert `src/fXX.c` to `xml/fXX.xml` with `parser/minc_to_xml.py`\n",
    "1. compile `xml/fXX.xml` to `minc/fXX.s` with the minC compiler you are supposed to write\n",
    "1. compile `main.c` and `minc/fXX.s` into an executable\n",
    "1. compile `main.c` and `src/fXX.c` into an executable with gcc\n",
    "1. execute the two executables and compare their outputs\n",
    "\n",
    "* in the `Makefile`\n",
    " * <font color=red>you must set the variable `minc` to the path to your compiler (relative to the test directory)</font>\n",
    "```\n",
    "minc := ../ml/minc/_build/default/bin/main.exe\n",
    "```\n",
    " * you can set the variable `srcs` to change the functions tested. the default is all the 75 files in `src/`\n",
    "```\n",
    "srcs := $(wildcard src/f*.c)\n",
    "```\n",
    "for example, if you set this to\n",
    "```\n",
    "srcs := $(wildcard src/f00.c)\n",
    "```\n",
    "you can only test `src/f00.c`\n",
    "\n",
    " * `make -n` will show you what will be executed without actually executing it\n",
    " "
   ]
  },
  {
   "cell_type": "code",
   "execution_count": 100,
   "metadata": {
    "kernel": "Bash",
    "nbgrader": {
     "grade": false,
     "grade_id": "c-050",
     "locked": false,
     "schema_version": 3,
     "solution": false,
     "task": false
    },
    "vscode": {
     "languageId": "ocaml"
    }
   },
   "outputs": [],
   "source": [
    "# make sure you set minc variable in Makefile\n",
    "#cd ~/notebooks/pl08_minc/test\n",
    "#make -n"
   ]
  },
  {
   "cell_type": "markdown",
   "metadata": {
    "deletable": false,
    "editable": false,
    "kernel": "SoS",
    "nbgrader": {
     "cell_type": "markdown",
     "checksum": "b1ecaeeadfa8832145ce6721d75174c9",
     "grade": false,
     "grade_id": "c-051",
     "locked": true,
     "schema_version": 3,
     "solution": false,
     "task": false
    }
   },
   "source": [
    "to test a single file"
   ]
  },
  {
   "cell_type": "code",
   "execution_count": 101,
   "metadata": {
    "kernel": "Bash",
    "nbgrader": {
     "grade": false,
     "grade_id": "c-052",
     "locked": false,
     "schema_version": 3,
     "solution": false,
     "task": false
    },
    "vscode": {
     "languageId": "ocaml"
    }
   },
   "outputs": [],
   "source": [
    "#make -n srcs=src/f00.c"
   ]
  },
  {
   "cell_type": "markdown",
   "metadata": {
    "deletable": false,
    "editable": false,
    "kernel": "SoS",
    "nbgrader": {
     "cell_type": "markdown",
     "checksum": "4aecae8e18d45b7eacd5f1e6a179d679",
     "grade": false,
     "grade_id": "c-053",
     "locked": true,
     "schema_version": 3,
     "solution": false,
     "task": false
    }
   },
   "source": [
    "\n",
    "* if the test fails, identify which file it failed for and how\n",
    "\n",
    "* use\n",
    "```\n",
    "make srcs=src/fXX.c\n",
    "```\n",
    "to run the test on the particular file that failed\n",
    "\n",
    "* on each file (`src/fXX.c`), it first converts the C source file into XML using `minc_to_xml.py`; if the test fails here, it's not your fault, unless you modified the grammar\n",
    "\n",
    "```\n",
    "echo \"# convert src/f00.c to xml/f00.xml\"\n",
    "../parser/minc_to_xml.py src/f00.c > xml/f00.xml\n",
    "```\n",
    "\n",
    "* next it calls your compiler to convert the XML file into asm (the command line depends on the language you chose)\n",
    "\n",
    "```\n",
    "echo \"# compile xml/f00.xml to asm with your minC compiler\"\n",
    "../ml/minc/_build/default/bin/main.exe xml/f00.xml asm/f00.s\n",
    "```\n",
    "\n",
    "if this fails, examine the original C source file (`f00.c` in the case above) and XML source file to examine what kind of source code makes it fail\n",
    "\n",
    "* then it calls the gcc to compile the assembly you generated into an executable\n",
    "\n",
    "```\n",
    "echo \"# generate the executable that calls f with your minC compiler\"\n",
    "gcc -o minc/f00.exe -DTEST_NO=0 main.c asm/f00.s -O0 -g\n",
    "```\n",
    "\n",
    "if you generate a syntactically invalid assembly code, gcc will complain here.  read the gcc error message, examine the assembly you generated (`asm/f00.s` in the case above) and understand why it failed\n",
    "\n",
    "* then it calls executables generated by gcc as well as your minC compiler\n",
    "\n",
    "```\n",
    "echo \"# run the executable generated by gcc\"\n",
    "./gcc/f00.exe | tee out/f00.gcc\n",
    "echo \"# run the executable generated by your minC compiler\"\n",
    "./minc/f00.exe | tee out/f00.minc\n",
    "```\n",
    "the gcc-generated executable is unlikely to fail.  if your compiler-generated executable fails, you might be able to see the reason just by looking at the assembly code you generated; otherwise, run the executable with a debugger. GDB, for example, can step-execute an assembly program and allow you to examine the value of registers.\n",
    "\n",
    "* it finally compares the output of the two executables\n",
    "\n",
    "```\n",
    "echo \"# take the diff of the two\"\n",
    "diff out/f00.gcc out/f00.minc\n",
    "```\n",
    "\n",
    "if it fails, the debugging strategy is the same as above; you might be able to see the reason just by looking at the assembly code you generated; otherwise, run the executable with a debugger. GDB, for example, can step-execute an assembly program and allow you to examine the value of registers.\n",
    "\n",
    "## 6-1. How to add new test programs\n",
    "* if you work on any of the extension, you are likely to add test programs too\n",
    "* src/src/fun.c contains all the C functions to test, each one being guarded by\n",
    "```\n",
    "#if TEST_NO == ???\n",
    "\n",
    "#endif\n",
    "```\n",
    "add your test case at the end of the file, using the next number as your TEST_NO\n",
    "* modify the following line in `test/src/src/Makefile`\n",
    "```\n",
    "tests := $(shell seq -f \"%02.0f\" 0 74)\n",
    "```\n",
    "to reflect the tests you added.  for example, if you add two test cases (TEST_NO = 75 and 76), you should change it to \n",
    "```\n",
    "tests := $(shell seq -f \"%02.0f\" 0 76)\n",
    "```\n",
    "and run make in `test/src/src`"
   ]
  },
  {
   "cell_type": "code",
   "execution_count": 67,
   "metadata": {
    "kernel": "Bash",
    "nbgrader": {
     "grade": false,
     "grade_id": "c-054",
     "locked": false,
     "schema_version": 3,
     "solution": false,
     "task": false
    },
    "vscode": {
     "languageId": "ocaml"
    }
   },
   "outputs": [
    {
     "name": "stdout",
     "output_type": "stream",
     "text": [
      "make: Nothing to be done for 'all'.\n"
     ]
    }
   ],
   "source": [
    "cd ~/notebooks/pl08_minc/test/src/src\n",
    "make"
   ]
  },
  {
   "cell_type": "markdown",
   "metadata": {
    "deletable": false,
    "editable": false,
    "kernel": "SoS",
    "nbgrader": {
     "cell_type": "markdown",
     "checksum": "b48d106ae6153e565a009ec486c057c7",
     "grade": false,
     "grade_id": "c-055",
     "locked": true,
     "schema_version": 3,
     "solution": false,
     "task": false
    }
   },
   "source": [
    "* do a similar thing for `test/main.c`; as long as all functions take only `long` arguments and return a `long` value, you can use the same `main` function. in that case you just change\n",
    "```\n",
    "#if 0 <= TEST_NO && TEST_NO <= 74\n",
    "...\n",
    "#endif\n",
    "```\n",
    "to, say, \n",
    "```\n",
    "#if 0 <= TEST_NO && TEST_NO <= 76\n",
    "...\n",
    "#endif\n",
    "```\n",
    "\n",
    "* if you support types other than `long`, you are likely to add a different main function. modify `main.c` accordingly\n"
   ]
  },
  {
   "cell_type": "markdown",
   "metadata": {
    "deletable": false,
    "editable": false,
    "kernel": "SoS",
    "nbgrader": {
     "cell_type": "markdown",
     "checksum": "2a0bff3270ef1658fb920cc3a1dffa96",
     "grade": false,
     "grade_id": "c-056",
     "locked": true,
     "schema_version": 3,
     "solution": false,
     "task": false
    }
   },
   "source": [
    "\n",
    "# 7. Format of the report and how to submit your work\n",
    "## 7-1. Baseline requirements (Level 1)\n",
    "* implement the compiler for minC (you will mainly write `minc_cogen.{go,jl,ml,rs}`)\n",
    "* your code generator must be heavily commented (explain how it works, as if you are writing a report, except you write it in the source code)\n",
    "* pass all the tests, that is, the following command executes without an error"
   ]
  },
  {
   "cell_type": "code",
   "execution_count": 1,
   "metadata": {},
   "outputs": [],
   "source": [
    "eval $(opam env)"
   ]
  },
  {
   "cell_type": "code",
   "execution_count": 41,
   "metadata": {},
   "outputs": [
    {
     "name": "stdout",
     "output_type": "stream",
     "text": [
      "4.14.2\n"
     ]
    }
   ],
   "source": [
    "eval $(opam env)\n",
    "ocamlc --version\n",
    "cd ~/notebooks/pl08_minc/ml/minc\n",
    "# ls -lR"
   ]
  },
  {
   "cell_type": "code",
   "execution_count": 42,
   "metadata": {},
   "outputs": [
    {
     "name": "stdout",
     "output_type": "stream",
     "text": [
      "                                    "
     ]
    }
   ],
   "source": [
    "# dune init project minc\n",
    "dune build"
   ]
  },
  {
   "cell_type": "code",
   "execution_count": 43,
   "metadata": {
    "deletable": false,
    "kernel": "Bash",
    "nbgrader": {
     "cell_type": "code",
     "checksum": "56ce175556ee868936e217bc546f4697",
     "grade": true,
     "grade_id": "p-001",
     "locked": false,
     "points": 1,
     "schema_version": 3,
     "solution": true,
     "task": false
    },
    "scrolled": true,
    "vscode": {
     "languageId": "ocaml"
    }
   },
   "outputs": [
    {
     "name": "stdout",
     "output_type": "stream",
     "text": [
      "mkdir -p xml/dir\n",
      "# convert src/f00.c to xml/f00.xml\n",
      "python3 ../parser/minc_to_xml.py src/f00.c > xml/f00.xml\n",
      "mkdir -p asm/dir\n",
      "# compile xml/f00.xml to asm with your minC compiler\n",
      "../ml/minc/_build/default/bin/main.exe xml/f00.xml asm/f00.s\n",
      "mkdir -p minc/dir\n",
      "# generate the executable that calls f with your minC compiler\n",
      "gcc -o minc/f00.exe -DTEST_NO=0 main.c asm/f00.s -O0 -g\n",
      "mkdir -p out/dir\n",
      "# run the executable generated by gcc\n",
      "minc/f00.exe | tee out/f00.minc\n",
      "123\n",
      "mkdir -p gcc/dir\n",
      "# generate the executable that calls f with gcc\n",
      "gcc -o gcc/f00.exe -DTEST_NO=0 main.c src/f00.c -O0 -g\n",
      "# run the executable generated by gcc\n",
      "gcc/f00.exe | tee out/f00.gcc\n",
      "123\n",
      "# take the diff of the two\n",
      "diff out/f00.gcc out/f00.minc > out/f00.diff\n",
      "# convert src/f01.c to xml/f01.xml\n",
      "python3 ../parser/minc_to_xml.py src/f01.c > xml/f01.xml\n",
      "# compile xml/f01.xml to asm with your minC compiler\n",
      "../ml/minc/_build/default/bin/main.exe xml/f01.xml asm/f01.s\n",
      "# generate the executable that calls f with your minC compiler\n",
      "gcc -o minc/f01.exe -DTEST_NO=1 main.c asm/f01.s -O0 -g\n",
      "# run the executable generated by gcc\n",
      "minc/f01.exe | tee out/f01.minc\n",
      "-10\n",
      "# generate the executable that calls f with gcc\n",
      "gcc -o gcc/f01.exe -DTEST_NO=1 main.c src/f01.c -O0 -g\n",
      "# run the executable generated by gcc\n",
      "gcc/f01.exe | tee out/f01.gcc\n",
      "-10\n",
      "# take the diff of the two\n",
      "diff out/f01.gcc out/f01.minc > out/f01.diff\n",
      "# convert src/f02.c to xml/f02.xml\n",
      "python3 ../parser/minc_to_xml.py src/f02.c > xml/f02.xml\n",
      "# compile xml/f02.xml to asm with your minC compiler\n",
      "../ml/minc/_build/default/bin/main.exe xml/f02.xml asm/f02.s\n",
      "# generate the executable that calls f with your minC compiler\n",
      "gcc -o minc/f02.exe -DTEST_NO=2 main.c asm/f02.s -O0 -g\n",
      "# run the executable generated by gcc\n",
      "minc/f02.exe | tee out/f02.minc\n",
      "3\n",
      "# generate the executable that calls f with gcc\n",
      "gcc -o gcc/f02.exe -DTEST_NO=2 main.c src/f02.c -O0 -g\n",
      "# run the executable generated by gcc\n",
      "gcc/f02.exe | tee out/f02.gcc\n",
      "3\n",
      "# take the diff of the two\n",
      "diff out/f02.gcc out/f02.minc > out/f02.diff\n",
      "# convert src/f03.c to xml/f03.xml\n",
      "python3 ../parser/minc_to_xml.py src/f03.c > xml/f03.xml\n",
      "# compile xml/f03.xml to asm with your minC compiler\n",
      "../ml/minc/_build/default/bin/main.exe xml/f03.xml asm/f03.s\n",
      "# generate the executable that calls f with your minC compiler\n",
      "gcc -o minc/f03.exe -DTEST_NO=3 main.c asm/f03.s -O0 -g\n",
      "# run the executable generated by gcc\n",
      "minc/f03.exe | tee out/f03.minc\n",
      "227956061\n",
      "# generate the executable that calls f with gcc\n",
      "gcc -o gcc/f03.exe -DTEST_NO=3 main.c src/f03.c -O0 -g\n",
      "# run the executable generated by gcc\n",
      "gcc/f03.exe | tee out/f03.gcc\n",
      "227956061\n",
      "# take the diff of the two\n",
      "diff out/f03.gcc out/f03.minc > out/f03.diff\n",
      "# convert src/f04.c to xml/f04.xml\n",
      "python3 ../parser/minc_to_xml.py src/f04.c > xml/f04.xml\n",
      "# compile xml/f04.xml to asm with your minC compiler\n",
      "../ml/minc/_build/default/bin/main.exe xml/f04.xml asm/f04.s\n",
      "# generate the executable that calls f with your minC compiler\n",
      "gcc -o minc/f04.exe -DTEST_NO=4 main.c asm/f04.s -O0 -g\n",
      "# run the executable generated by gcc\n",
      "minc/f04.exe | tee out/f04.minc\n",
      "228148440\n",
      "# generate the executable that calls f with gcc\n",
      "gcc -o gcc/f04.exe -DTEST_NO=4 main.c src/f04.c -O0 -g\n",
      "# run the executable generated by gcc\n",
      "gcc/f04.exe | tee out/f04.gcc\n",
      "228148440\n",
      "# take the diff of the two\n",
      "diff out/f04.gcc out/f04.minc > out/f04.diff\n",
      "# convert src/f05.c to xml/f05.xml\n",
      "python3 ../parser/minc_to_xml.py src/f05.c > xml/f05.xml\n",
      "# compile xml/f05.xml to asm with your minC compiler\n",
      "../ml/minc/_build/default/bin/main.exe xml/f05.xml asm/f05.s\n",
      "# generate the executable that calls f with your minC compiler\n",
      "gcc -o minc/f05.exe -DTEST_NO=5 main.c asm/f05.s -O0 -g\n",
      "# run the executable generated by gcc\n",
      "minc/f05.exe | tee out/f05.minc\n",
      "-228340810\n",
      "# generate the executable that calls f with gcc\n",
      "gcc -o gcc/f05.exe -DTEST_NO=5 main.c src/f05.c -O0 -g\n",
      "# run the executable generated by gcc\n",
      "gcc/f05.exe | tee out/f05.gcc\n",
      "-228340810\n",
      "# take the diff of the two\n",
      "diff out/f05.gcc out/f05.minc > out/f05.diff\n",
      "# convert src/f06.c to xml/f06.xml\n",
      "python3 ../parser/minc_to_xml.py src/f06.c > xml/f06.xml\n",
      "# compile xml/f06.xml to asm with your minC compiler\n",
      "../ml/minc/_build/default/bin/main.exe xml/f06.xml asm/f06.s\n",
      "# generate the executable that calls f with your minC compiler\n",
      "gcc -o minc/f06.exe -DTEST_NO=6 main.c asm/f06.s -O0 -g\n",
      "# run the executable generated by gcc\n",
      "minc/f06.exe | tee out/f06.minc\n",
      "0\n",
      "# generate the executable that calls f with gcc\n",
      "gcc -o gcc/f06.exe -DTEST_NO=6 main.c src/f06.c -O0 -g\n",
      "# run the executable generated by gcc\n",
      "gcc/f06.exe | tee out/f06.gcc\n",
      "0\n",
      "# take the diff of the two\n",
      "diff out/f06.gcc out/f06.minc > out/f06.diff\n",
      "# convert src/f07.c to xml/f07.xml\n",
      "python3 ../parser/minc_to_xml.py src/f07.c > xml/f07.xml\n",
      "# compile xml/f07.xml to asm with your minC compiler\n",
      "../ml/minc/_build/default/bin/main.exe xml/f07.xml asm/f07.s\n",
      "# generate the executable that calls f with your minC compiler\n",
      "gcc -o minc/f07.exe -DTEST_NO=7 main.c asm/f07.s -O0 -g\n",
      "# run the executable generated by gcc\n",
      "minc/f07.exe | tee out/f07.minc\n",
      "2193746505\n",
      "# generate the executable that calls f with gcc\n",
      "gcc -o gcc/f07.exe -DTEST_NO=7 main.c src/f07.c -O0 -g\n",
      "# run the executable generated by gcc\n",
      "gcc/f07.exe | tee out/f07.gcc\n",
      "2193746505\n",
      "# take the diff of the two\n",
      "diff out/f07.gcc out/f07.minc > out/f07.diff\n",
      "# convert src/f08.c to xml/f08.xml\n",
      "python3 ../parser/minc_to_xml.py src/f08.c > xml/f08.xml\n",
      "# compile xml/f08.xml to asm with your minC compiler\n",
      "../ml/minc/_build/default/bin/main.exe xml/f08.xml asm/f08.s\n",
      "# generate the executable that calls f with your minC compiler\n",
      "gcc -o minc/f08.exe -DTEST_NO=8 main.c asm/f08.s -O0 -g\n",
      "# run the executable generated by gcc\n",
      "minc/f08.exe | tee out/f08.minc\n",
      "317572962884373914\n",
      "# generate the executable that calls f with gcc\n",
      "gcc -o gcc/f08.exe -DTEST_NO=8 main.c src/f08.c -O0 -g\n",
      "# run the executable generated by gcc\n",
      "gcc/f08.exe | tee out/f08.gcc\n",
      "317572962884373914\n",
      "# take the diff of the two\n",
      "diff out/f08.gcc out/f08.minc > out/f08.diff\n",
      "# convert src/f09.c to xml/f09.xml\n",
      "python3 ../parser/minc_to_xml.py src/f09.c > xml/f09.xml\n",
      "# compile xml/f09.xml to asm with your minC compiler\n",
      "../ml/minc/_build/default/bin/main.exe xml/f09.xml asm/f09.s\n",
      "# generate the executable that calls f with your minC compiler\n",
      "gcc -o minc/f09.exe -DTEST_NO=9 main.c asm/f09.s -O0 -g\n",
      "# run the executable generated by gcc\n",
      "minc/f09.exe | tee out/f09.minc\n",
      "0\n",
      "# generate the executable that calls f with gcc\n",
      "gcc -o gcc/f09.exe -DTEST_NO=9 main.c src/f09.c -O0 -g\n",
      "# run the executable generated by gcc\n",
      "gcc/f09.exe | tee out/f09.gcc\n",
      "0\n",
      "# take the diff of the two\n",
      "diff out/f09.gcc out/f09.minc > out/f09.diff\n",
      "# convert src/f10.c to xml/f10.xml\n",
      "python3 ../parser/minc_to_xml.py src/f10.c > xml/f10.xml\n",
      "# compile xml/f10.xml to asm with your minC compiler\n",
      "../ml/minc/_build/default/bin/main.exe xml/f10.xml asm/f10.s\n",
      "# generate the executable that calls f with your minC compiler\n",
      "gcc -o minc/f10.exe -DTEST_NO=10 main.c asm/f10.s -O0 -g\n",
      "# run the executable generated by gcc\n",
      "minc/f10.exe | tee out/f10.minc\n",
      "229302682\n",
      "# generate the executable that calls f with gcc\n",
      "gcc -o gcc/f10.exe -DTEST_NO=10 main.c src/f10.c -O0 -g\n",
      "# run the executable generated by gcc\n",
      "gcc/f10.exe | tee out/f10.gcc\n",
      "229302682\n",
      "# take the diff of the two\n",
      "diff out/f10.gcc out/f10.minc > out/f10.diff\n",
      "# convert src/f11.c to xml/f11.xml\n",
      "python3 ../parser/minc_to_xml.py src/f11.c > xml/f11.xml\n",
      "# compile xml/f11.xml to asm with your minC compiler\n",
      "../ml/minc/_build/default/bin/main.exe xml/f11.xml asm/f11.s\n",
      "# generate the executable that calls f with your minC compiler\n",
      "gcc -o minc/f11.exe -DTEST_NO=11 main.c asm/f11.s -O0 -g\n",
      "# run the executable generated by gcc\n",
      "minc/f11.exe | tee out/f11.minc\n",
      "0\n",
      "# generate the executable that calls f with gcc\n",
      "gcc -o gcc/f11.exe -DTEST_NO=11 main.c src/f11.c -O0 -g\n",
      "# run the executable generated by gcc\n",
      "gcc/f11.exe | tee out/f11.gcc\n",
      "0\n",
      "# take the diff of the two\n",
      "diff out/f11.gcc out/f11.minc > out/f11.diff\n",
      "# convert src/f12.c to xml/f12.xml\n",
      "python3 ../parser/minc_to_xml.py src/f12.c > xml/f12.xml\n",
      "# compile xml/f12.xml to asm with your minC compiler\n",
      "../ml/minc/_build/default/bin/main.exe xml/f12.xml asm/f12.s\n",
      "# generate the executable that calls f with your minC compiler\n",
      "gcc -o minc/f12.exe -DTEST_NO=12 main.c asm/f12.s -O0 -g\n",
      "# run the executable generated by gcc\n",
      "minc/f12.exe | tee out/f12.minc\n",
      "1\n",
      "# generate the executable that calls f with gcc\n",
      "gcc -o gcc/f12.exe -DTEST_NO=12 main.c src/f12.c -O0 -g\n",
      "# run the executable generated by gcc\n",
      "gcc/f12.exe | tee out/f12.gcc\n",
      "1\n",
      "# take the diff of the two\n",
      "diff out/f12.gcc out/f12.minc > out/f12.diff\n",
      "# convert src/f13.c to xml/f13.xml\n",
      "python3 ../parser/minc_to_xml.py src/f13.c > xml/f13.xml\n",
      "# compile xml/f13.xml to asm with your minC compiler\n",
      "../ml/minc/_build/default/bin/main.exe xml/f13.xml asm/f13.s\n",
      "# generate the executable that calls f with your minC compiler\n",
      "gcc -o minc/f13.exe -DTEST_NO=13 main.c asm/f13.s -O0 -g\n",
      "# run the executable generated by gcc\n",
      "minc/f13.exe | tee out/f13.minc\n",
      "1\n",
      "# generate the executable that calls f with gcc\n",
      "gcc -o gcc/f13.exe -DTEST_NO=13 main.c src/f13.c -O0 -g\n",
      "# run the executable generated by gcc\n",
      "gcc/f13.exe | tee out/f13.gcc\n",
      "1\n",
      "# take the diff of the two\n",
      "diff out/f13.gcc out/f13.minc > out/f13.diff\n",
      "# convert src/f14.c to xml/f14.xml\n",
      "python3 ../parser/minc_to_xml.py src/f14.c > xml/f14.xml\n",
      "# compile xml/f14.xml to asm with your minC compiler\n",
      "../ml/minc/_build/default/bin/main.exe xml/f14.xml asm/f14.s\n",
      "# generate the executable that calls f with your minC compiler\n",
      "gcc -o minc/f14.exe -DTEST_NO=14 main.c asm/f14.s -O0 -g\n",
      "# run the executable generated by gcc\n",
      "minc/f14.exe | tee out/f14.minc\n",
      "1\n",
      "# generate the executable that calls f with gcc\n",
      "gcc -o gcc/f14.exe -DTEST_NO=14 main.c src/f14.c -O0 -g\n",
      "# run the executable generated by gcc\n",
      "gcc/f14.exe | tee out/f14.gcc\n",
      "1\n",
      "# take the diff of the two\n",
      "diff out/f14.gcc out/f14.minc > out/f14.diff\n",
      "# convert src/f15.c to xml/f15.xml\n",
      "python3 ../parser/minc_to_xml.py src/f15.c > xml/f15.xml\n",
      "# compile xml/f15.xml to asm with your minC compiler\n",
      "../ml/minc/_build/default/bin/main.exe xml/f15.xml asm/f15.s\n",
      "# generate the executable that calls f with your minC compiler\n",
      "gcc -o minc/f15.exe -DTEST_NO=15 main.c asm/f15.s -O0 -g\n",
      "# run the executable generated by gcc\n",
      "minc/f15.exe | tee out/f15.minc\n",
      "1\n",
      "# generate the executable that calls f with gcc\n",
      "gcc -o gcc/f15.exe -DTEST_NO=15 main.c src/f15.c -O0 -g\n",
      "# run the executable generated by gcc\n",
      "gcc/f15.exe | tee out/f15.gcc\n",
      "1\n",
      "# take the diff of the two\n",
      "diff out/f15.gcc out/f15.minc > out/f15.diff\n",
      "# convert src/f16.c to xml/f16.xml\n",
      "python3 ../parser/minc_to_xml.py src/f16.c > xml/f16.xml\n",
      "# compile xml/f16.xml to asm with your minC compiler\n",
      "../ml/minc/_build/default/bin/main.exe xml/f16.xml asm/f16.s\n",
      "# generate the executable that calls f with your minC compiler\n",
      "gcc -o minc/f16.exe -DTEST_NO=16 main.c asm/f16.s -O0 -g\n",
      "# run the executable generated by gcc\n",
      "minc/f16.exe | tee out/f16.minc\n",
      "0\n",
      "# generate the executable that calls f with gcc\n",
      "gcc -o gcc/f16.exe -DTEST_NO=16 main.c src/f16.c -O0 -g\n",
      "# run the executable generated by gcc\n",
      "gcc/f16.exe | tee out/f16.gcc\n",
      "0\n",
      "# take the diff of the two\n",
      "diff out/f16.gcc out/f16.minc > out/f16.diff\n",
      "# convert src/f17.c to xml/f17.xml\n",
      "python3 ../parser/minc_to_xml.py src/f17.c > xml/f17.xml\n",
      "# compile xml/f17.xml to asm with your minC compiler\n",
      "../ml/minc/_build/default/bin/main.exe xml/f17.xml asm/f17.s\n",
      "# generate the executable that calls f with your minC compiler\n",
      "gcc -o minc/f17.exe -DTEST_NO=17 main.c asm/f17.s -O0 -g\n",
      "# run the executable generated by gcc\n",
      "minc/f17.exe | tee out/f17.minc\n",
      "1000557039\n",
      "# generate the executable that calls f with gcc\n",
      "gcc -o gcc/f17.exe -DTEST_NO=17 main.c src/f17.c -O0 -g\n",
      "# run the executable generated by gcc\n",
      "gcc/f17.exe | tee out/f17.gcc\n",
      "1000557039\n",
      "# take the diff of the two\n",
      "diff out/f17.gcc out/f17.minc > out/f17.diff\n",
      "# convert src/f18.c to xml/f18.xml\n",
      "python3 ../parser/minc_to_xml.py src/f18.c > xml/f18.xml\n",
      "# compile xml/f18.xml to asm with your minC compiler\n",
      "../ml/minc/_build/default/bin/main.exe xml/f18.xml asm/f18.s\n",
      "# generate the executable that calls f with your minC compiler\n",
      "gcc -o minc/f18.exe -DTEST_NO=18 main.c asm/f18.s -O0 -g\n",
      "# run the executable generated by gcc\n",
      "minc/f18.exe | tee out/f18.minc\n",
      "230841677\n",
      "# generate the executable that calls f with gcc\n",
      "gcc -o gcc/f18.exe -DTEST_NO=18 main.c src/f18.c -O0 -g\n",
      "# run the executable generated by gcc\n",
      "gcc/f18.exe | tee out/f18.gcc\n",
      "230841677\n",
      "# take the diff of the two\n",
      "diff out/f18.gcc out/f18.minc > out/f18.diff\n",
      "# convert src/f19.c to xml/f19.xml\n",
      "python3 ../parser/minc_to_xml.py src/f19.c > xml/f19.xml\n",
      "# compile xml/f19.xml to asm with your minC compiler\n",
      "../ml/minc/_build/default/bin/main.exe xml/f19.xml asm/f19.s\n",
      "# generate the executable that calls f with your minC compiler\n",
      "gcc -o minc/f19.exe -DTEST_NO=19 main.c asm/f19.s -O0 -g\n",
      "# run the executable generated by gcc\n",
      "minc/f19.exe | tee out/f19.minc\n",
      "1474564434\n",
      "# generate the executable that calls f with gcc\n",
      "gcc -o gcc/f19.exe -DTEST_NO=19 main.c src/f19.c -O0 -g\n",
      "# run the executable generated by gcc\n",
      "gcc/f19.exe | tee out/f19.gcc\n",
      "1474564434\n",
      "# take the diff of the two\n",
      "diff out/f19.gcc out/f19.minc > out/f19.diff\n",
      "# convert src/f20.c to xml/f20.xml\n",
      "python3 ../parser/minc_to_xml.py src/f20.c > xml/f20.xml\n",
      "# compile xml/f20.xml to asm with your minC compiler\n",
      "../ml/minc/_build/default/bin/main.exe xml/f20.xml asm/f20.s\n",
      "# generate the executable that calls f with your minC compiler\n",
      "gcc -o minc/f20.exe -DTEST_NO=20 main.c asm/f20.s -O0 -g\n",
      "# run the executable generated by gcc\n",
      "minc/f20.exe | tee out/f20.minc\n",
      "1342544566\n",
      "# generate the executable that calls f with gcc\n",
      "gcc -o gcc/f20.exe -DTEST_NO=20 main.c src/f20.c -O0 -g\n",
      "# run the executable generated by gcc\n",
      "gcc/f20.exe | tee out/f20.gcc\n",
      "1342544566\n",
      "# take the diff of the two\n",
      "diff out/f20.gcc out/f20.minc > out/f20.diff\n",
      "# convert src/f21.c to xml/f21.xml\n",
      "python3 ../parser/minc_to_xml.py src/f21.c > xml/f21.xml\n",
      "# compile xml/f21.xml to asm with your minC compiler\n",
      "../ml/minc/_build/default/bin/main.exe xml/f21.xml asm/f21.s\n",
      "# generate the executable that calls f with your minC compiler\n",
      "gcc -o minc/f21.exe -DTEST_NO=21 main.c asm/f21.s -O0 -g\n",
      "# run the executable generated by gcc\n",
      "minc/f21.exe | tee out/f21.minc\n",
      "1806142094\n",
      "# generate the executable that calls f with gcc\n",
      "gcc -o gcc/f21.exe -DTEST_NO=21 main.c src/f21.c -O0 -g\n",
      "# run the executable generated by gcc\n",
      "gcc/f21.exe | tee out/f21.gcc\n",
      "1806142094\n",
      "# take the diff of the two\n",
      "diff out/f21.gcc out/f21.minc > out/f21.diff\n",
      "# convert src/f22.c to xml/f22.xml\n",
      "python3 ../parser/minc_to_xml.py src/f22.c > xml/f22.xml\n",
      "# compile xml/f22.xml to asm with your minC compiler\n",
      "../ml/minc/_build/default/bin/main.exe xml/f22.xml asm/f22.s\n",
      "# generate the executable that calls f with your minC compiler\n",
      "gcc -o minc/f22.exe -DTEST_NO=22 main.c asm/f22.s -O0 -g\n",
      "# run the executable generated by gcc\n",
      "minc/f22.exe | tee out/f22.minc\n",
      "1065991141\n",
      "# generate the executable that calls f with gcc\n",
      "gcc -o gcc/f22.exe -DTEST_NO=22 main.c src/f22.c -O0 -g\n",
      "# run the executable generated by gcc\n",
      "gcc/f22.exe | tee out/f22.gcc\n",
      "1065991141\n",
      "# take the diff of the two\n",
      "diff out/f22.gcc out/f22.minc > out/f22.diff\n",
      "# convert src/f23.c to xml/f23.xml\n",
      "python3 ../parser/minc_to_xml.py src/f23.c > xml/f23.xml\n",
      "# compile xml/f23.xml to asm with your minC compiler\n",
      "../ml/minc/_build/default/bin/main.exe xml/f23.xml asm/f23.s\n",
      "# generate the executable that calls f with your minC compiler\n",
      "gcc -o minc/f23.exe -DTEST_NO=23 main.c asm/f23.s -O0 -g\n",
      "# run the executable generated by gcc\n",
      "minc/f23.exe | tee out/f23.minc\n",
      "578831349\n",
      "# generate the executable that calls f with gcc\n",
      "gcc -o gcc/f23.exe -DTEST_NO=23 main.c src/f23.c -O0 -g\n",
      "# run the executable generated by gcc\n",
      "gcc/f23.exe | tee out/f23.gcc\n",
      "578831349\n",
      "# take the diff of the two\n",
      "diff out/f23.gcc out/f23.minc > out/f23.diff\n",
      "# convert src/f24.c to xml/f24.xml\n",
      "python3 ../parser/minc_to_xml.py src/f24.c > xml/f24.xml\n",
      "# compile xml/f24.xml to asm with your minC compiler\n",
      "../ml/minc/_build/default/bin/main.exe xml/f24.xml asm/f24.s\n",
      "# generate the executable that calls f with your minC compiler\n",
      "gcc -o minc/f24.exe -DTEST_NO=24 main.c asm/f24.s -O0 -g\n",
      "# run the executable generated by gcc\n",
      "minc/f24.exe | tee out/f24.minc\n",
      "151400083\n",
      "# generate the executable that calls f with gcc\n",
      "gcc -o gcc/f24.exe -DTEST_NO=24 main.c src/f24.c -O0 -g\n",
      "# run the executable generated by gcc\n",
      "gcc/f24.exe | tee out/f24.gcc\n",
      "151400083\n",
      "# take the diff of the two\n",
      "diff out/f24.gcc out/f24.minc > out/f24.diff\n",
      "# convert src/f25.c to xml/f25.xml\n",
      "python3 ../parser/minc_to_xml.py src/f25.c > xml/f25.xml\n",
      "# compile xml/f25.xml to asm with your minC compiler\n",
      "../ml/minc/_build/default/bin/main.exe xml/f25.xml asm/f25.s\n",
      "# generate the executable that calls f with your minC compiler\n",
      "gcc -o minc/f25.exe -DTEST_NO=25 main.c asm/f25.s -O0 -g\n",
      "# run the executable generated by gcc\n",
      "minc/f25.exe | tee out/f25.minc\n",
      "1441408575\n",
      "# generate the executable that calls f with gcc\n",
      "gcc -o gcc/f25.exe -DTEST_NO=25 main.c src/f25.c -O0 -g\n",
      "# run the executable generated by gcc\n",
      "gcc/f25.exe | tee out/f25.gcc\n",
      "1441408575\n",
      "# take the diff of the two\n",
      "diff out/f25.gcc out/f25.minc > out/f25.diff\n",
      "# convert src/f26.c to xml/f26.xml\n",
      "python3 ../parser/minc_to_xml.py src/f26.c > xml/f26.xml\n",
      "# compile xml/f26.xml to asm with your minC compiler\n",
      "../ml/minc/_build/default/bin/main.exe xml/f26.xml asm/f26.s\n",
      "# generate the executable that calls f with your minC compiler\n",
      "gcc -o minc/f26.exe -DTEST_NO=26 main.c asm/f26.s -O0 -g\n",
      "# run the executable generated by gcc\n",
      "minc/f26.exe | tee out/f26.minc\n",
      "1398290482\n",
      "# generate the executable that calls f with gcc\n",
      "gcc -o gcc/f26.exe -DTEST_NO=26 main.c src/f26.c -O0 -g\n",
      "# run the executable generated by gcc\n",
      "gcc/f26.exe | tee out/f26.gcc\n",
      "1398290482\n",
      "# take the diff of the two\n",
      "diff out/f26.gcc out/f26.minc > out/f26.diff\n",
      "# convert src/f27.c to xml/f27.xml\n",
      "python3 ../parser/minc_to_xml.py src/f27.c > xml/f27.xml\n",
      "# compile xml/f27.xml to asm with your minC compiler\n",
      "../ml/minc/_build/default/bin/main.exe xml/f27.xml asm/f27.s\n",
      "# generate the executable that calls f with your minC compiler\n",
      "gcc -o minc/f27.exe -DTEST_NO=27 main.c asm/f27.s -O0 -g\n",
      "# run the executable generated by gcc\n",
      "minc/f27.exe | tee out/f27.minc\n",
      "709065760\n",
      "# generate the executable that calls f with gcc\n",
      "gcc -o gcc/f27.exe -DTEST_NO=27 main.c src/f27.c -O0 -g\n",
      "# run the executable generated by gcc\n",
      "gcc/f27.exe | tee out/f27.gcc\n",
      "709065760\n",
      "# take the diff of the two\n",
      "diff out/f27.gcc out/f27.minc > out/f27.diff\n",
      "# convert src/f28.c to xml/f28.xml\n",
      "python3 ../parser/minc_to_xml.py src/f28.c > xml/f28.xml\n",
      "# compile xml/f28.xml to asm with your minC compiler\n",
      "../ml/minc/_build/default/bin/main.exe xml/f28.xml asm/f28.s\n",
      "# generate the executable that calls f with your minC compiler\n",
      "gcc -o minc/f28.exe -DTEST_NO=28 main.c asm/f28.s -O0 -g\n",
      "# run the executable generated by gcc\n",
      "minc/f28.exe | tee out/f28.minc\n",
      "980325694\n",
      "# generate the executable that calls f with gcc\n",
      "gcc -o gcc/f28.exe -DTEST_NO=28 main.c src/f28.c -O0 -g\n",
      "# run the executable generated by gcc\n",
      "gcc/f28.exe | tee out/f28.gcc\n",
      "980325694\n",
      "# take the diff of the two\n",
      "diff out/f28.gcc out/f28.minc > out/f28.diff\n",
      "# convert src/f29.c to xml/f29.xml\n",
      "python3 ../parser/minc_to_xml.py src/f29.c > xml/f29.xml\n",
      "# compile xml/f29.xml to asm with your minC compiler\n",
      "../ml/minc/_build/default/bin/main.exe xml/f29.xml asm/f29.s\n",
      "# generate the executable that calls f with your minC compiler\n",
      "gcc -o minc/f29.exe -DTEST_NO=29 main.c asm/f29.s -O0 -g\n",
      "# run the executable generated by gcc\n",
      "minc/f29.exe | tee out/f29.minc\n",
      "1558874624\n",
      "# generate the executable that calls f with gcc\n",
      "gcc -o gcc/f29.exe -DTEST_NO=29 main.c src/f29.c -O0 -g\n",
      "# run the executable generated by gcc\n",
      "gcc/f29.exe | tee out/f29.gcc\n",
      "1558874624\n",
      "# take the diff of the two\n",
      "diff out/f29.gcc out/f29.minc > out/f29.diff\n",
      "# convert src/f30.c to xml/f30.xml\n",
      "python3 ../parser/minc_to_xml.py src/f30.c > xml/f30.xml\n",
      "# compile xml/f30.xml to asm with your minC compiler\n",
      "../ml/minc/_build/default/bin/main.exe xml/f30.xml asm/f30.s\n",
      "# generate the executable that calls f with your minC compiler\n",
      "gcc -o minc/f30.exe -DTEST_NO=30 main.c asm/f30.s -O0 -g\n",
      "# run the executable generated by gcc\n",
      "minc/f30.exe | tee out/f30.minc\n",
      "0\n",
      "# generate the executable that calls f with gcc\n",
      "gcc -o gcc/f30.exe -DTEST_NO=30 main.c src/f30.c -O0 -g\n",
      "# run the executable generated by gcc\n",
      "gcc/f30.exe | tee out/f30.gcc\n",
      "0\n",
      "# take the diff of the two\n",
      "diff out/f30.gcc out/f30.minc > out/f30.diff\n",
      "# convert src/f31.c to xml/f31.xml\n",
      "python3 ../parser/minc_to_xml.py src/f31.c > xml/f31.xml\n",
      "# compile xml/f31.xml to asm with your minC compiler\n",
      "../ml/minc/_build/default/bin/main.exe xml/f31.xml asm/f31.s\n",
      "# generate the executable that calls f with your minC compiler\n",
      "gcc -o minc/f31.exe -DTEST_NO=31 main.c asm/f31.s -O0 -g\n",
      "# run the executable generated by gcc\n",
      "minc/f31.exe | tee out/f31.minc\n",
      "0\n",
      "# generate the executable that calls f with gcc\n",
      "gcc -o gcc/f31.exe -DTEST_NO=31 main.c src/f31.c -O0 -g\n",
      "# run the executable generated by gcc\n",
      "gcc/f31.exe | tee out/f31.gcc\n",
      "38890424\n",
      "# take the diff of the two\n",
      "diff out/f31.gcc out/f31.minc > out/f31.diff\n",
      "make: *** [Makefile:71: out/f31.diff] Error 1\n",
      "make: *** Deleting file 'out/f31.diff'\n"
     ]
    },
    {
     "ename": "",
     "evalue": "2",
     "output_type": "error",
     "traceback": []
    }
   ],
   "source": [
    "cd ~/notebooks/pl08_minc/test\n",
    "make -B"
   ]
  },
  {
   "cell_type": "code",
   "execution_count": 147,
   "metadata": {},
   "outputs": [],
   "source": [
    "gcc -o minc/f17.exe -DTEST_NO=17 main.c asm/f17.s -O0 -g"
   ]
  },
  {
   "cell_type": "code",
   "execution_count": 16,
   "metadata": {},
   "outputs": [
    {
     "name": "stdout",
     "output_type": "stream",
     "text": [
      "echo \"# compile xml/f10.xml to asm with your minC compiler\"\n",
      "../ml/minc/_build/default/bin/main.exe xml/f10.xml asm/f10.s\n",
      "echo \"# generate the executable that calls f with your minC compiler\"\n",
      "gcc -o minc/f10.exe -DTEST_NO=10 main.c asm/f10.s -O0 -g\n",
      "echo \"# run the executable generated by gcc\"\n",
      "minc/f10.exe | tee out/f10.minc\n",
      "echo \"# take the diff of the two\"\n",
      "diff out/f10.gcc out/f10.minc > out/f10.diff\n"
     ]
    }
   ],
   "source": [
    "make -n srcs=src/f10.c"
   ]
  },
  {
   "cell_type": "markdown",
   "metadata": {
    "deletable": false,
    "editable": false,
    "kernel": "SoS",
    "nbgrader": {
     "cell_type": "markdown",
     "checksum": "1d4e70efe428ebac378f35de42a5e531",
     "grade": false,
     "grade_id": "c-057",
     "locked": true,
     "schema_version": 3,
     "solution": false,
     "task": false
    }
   },
   "source": [
    "* by default, the entire test stops as soon as any test fails. you may want to try `-k` option for make, to skip files that fails and go ahead to others"
   ]
  },
  {
   "cell_type": "code",
   "execution_count": 6,
   "metadata": {
    "deletable": false,
    "kernel": "Bash",
    "nbgrader": {
     "cell_type": "code",
     "checksum": "89b17e400665b698fee923c87d4df359",
     "grade": true,
     "grade_id": "p-002",
     "locked": false,
     "points": 1,
     "schema_version": 3,
     "solution": true,
     "task": false
    },
    "vscode": {
     "languageId": "ocaml"
    }
   },
   "outputs": [
    {
     "name": "stdout",
     "output_type": "stream",
     "text": [
      "mkdir -p xml/dir\n",
      "# convert src/f00.c to xml/f00.xml\n",
      "python3 ../parser/minc_to_xml.py src/f00.c > xml/f00.xml\n",
      "mkdir -p asm/dir\n",
      "# compile xml/f00.xml to asm with your minC compiler\n",
      "../ml/minc/_build/default/bin/main.exe xml/f00.xml asm/f00.s\n",
      "mkdir -p minc/dir\n",
      "# generate the executable that calls f with your minC compiler\n",
      "gcc -o minc/f00.exe -DTEST_NO=0 main.c asm/f00.s -O0 -g\n",
      "mkdir -p out/dir\n",
      "# run the executable generated by gcc\n",
      "minc/f00.exe | tee out/f00.minc\n",
      "123\n",
      "mkdir -p gcc/dir\n",
      "# generate the executable that calls f with gcc\n",
      "gcc -o gcc/f00.exe -DTEST_NO=0 main.c src/f00.c -O0 -g\n",
      "# run the executable generated by gcc\n",
      "gcc/f00.exe | tee out/f00.gcc\n",
      "123\n",
      "# take the diff of the two\n",
      "diff out/f00.gcc out/f00.minc > out/f00.diff\n",
      "# convert src/f01.c to xml/f01.xml\n",
      "python3 ../parser/minc_to_xml.py src/f01.c > xml/f01.xml\n",
      "# compile xml/f01.xml to asm with your minC compiler\n",
      "../ml/minc/_build/default/bin/main.exe xml/f01.xml asm/f01.s\n",
      "# generate the executable that calls f with your minC compiler\n",
      "gcc -o minc/f01.exe -DTEST_NO=1 main.c asm/f01.s -O0 -g\n",
      "# run the executable generated by gcc\n",
      "minc/f01.exe | tee out/f01.minc\n",
      "-10\n",
      "# generate the executable that calls f with gcc\n",
      "gcc -o gcc/f01.exe -DTEST_NO=1 main.c src/f01.c -O0 -g\n",
      "# run the executable generated by gcc\n",
      "gcc/f01.exe | tee out/f01.gcc\n",
      "-10\n",
      "# take the diff of the two\n",
      "diff out/f01.gcc out/f01.minc > out/f01.diff\n",
      "# convert src/f02.c to xml/f02.xml\n",
      "python3 ../parser/minc_to_xml.py src/f02.c > xml/f02.xml\n",
      "# compile xml/f02.xml to asm with your minC compiler\n",
      "../ml/minc/_build/default/bin/main.exe xml/f02.xml asm/f02.s\n",
      "# generate the executable that calls f with your minC compiler\n",
      "gcc -o minc/f02.exe -DTEST_NO=2 main.c asm/f02.s -O0 -g\n",
      "# run the executable generated by gcc\n",
      "minc/f02.exe | tee out/f02.minc\n",
      "3\n",
      "# generate the executable that calls f with gcc\n",
      "gcc -o gcc/f02.exe -DTEST_NO=2 main.c src/f02.c -O0 -g\n",
      "# run the executable generated by gcc\n",
      "gcc/f02.exe | tee out/f02.gcc\n",
      "3\n",
      "# take the diff of the two\n",
      "diff out/f02.gcc out/f02.minc > out/f02.diff\n",
      "# convert src/f03.c to xml/f03.xml\n",
      "python3 ../parser/minc_to_xml.py src/f03.c > xml/f03.xml\n",
      "# compile xml/f03.xml to asm with your minC compiler\n",
      "../ml/minc/_build/default/bin/main.exe xml/f03.xml asm/f03.s\n",
      "# generate the executable that calls f with your minC compiler\n",
      "gcc -o minc/f03.exe -DTEST_NO=3 main.c asm/f03.s -O0 -g\n",
      "# run the executable generated by gcc\n",
      "minc/f03.exe | tee out/f03.minc\n",
      "227956061\n",
      "# generate the executable that calls f with gcc\n",
      "gcc -o gcc/f03.exe -DTEST_NO=3 main.c src/f03.c -O0 -g\n",
      "# run the executable generated by gcc\n",
      "gcc/f03.exe | tee out/f03.gcc\n",
      "227956061\n",
      "# take the diff of the two\n",
      "diff out/f03.gcc out/f03.minc > out/f03.diff\n",
      "# convert src/f04.c to xml/f04.xml\n",
      "python3 ../parser/minc_to_xml.py src/f04.c > xml/f04.xml\n",
      "# compile xml/f04.xml to asm with your minC compiler\n",
      "../ml/minc/_build/default/bin/main.exe xml/f04.xml asm/f04.s\n",
      "# generate the executable that calls f with your minC compiler\n",
      "gcc -o minc/f04.exe -DTEST_NO=4 main.c asm/f04.s -O0 -g\n",
      "# run the executable generated by gcc\n",
      "minc/f04.exe | tee out/f04.minc\n",
      "228148440\n",
      "# generate the executable that calls f with gcc\n",
      "gcc -o gcc/f04.exe -DTEST_NO=4 main.c src/f04.c -O0 -g\n",
      "# run the executable generated by gcc\n",
      "gcc/f04.exe | tee out/f04.gcc\n",
      "228148440\n",
      "# take the diff of the two\n",
      "diff out/f04.gcc out/f04.minc > out/f04.diff\n",
      "# convert src/f05.c to xml/f05.xml\n",
      "python3 ../parser/minc_to_xml.py src/f05.c > xml/f05.xml\n",
      "# compile xml/f05.xml to asm with your minC compiler\n",
      "../ml/minc/_build/default/bin/main.exe xml/f05.xml asm/f05.s\n",
      "# generate the executable that calls f with your minC compiler\n",
      "gcc -o minc/f05.exe -DTEST_NO=5 main.c asm/f05.s -O0 -g\n",
      "# run the executable generated by gcc\n",
      "minc/f05.exe | tee out/f05.minc\n",
      "-228340810\n",
      "# generate the executable that calls f with gcc\n",
      "gcc -o gcc/f05.exe -DTEST_NO=5 main.c src/f05.c -O0 -g\n",
      "# run the executable generated by gcc\n",
      "gcc/f05.exe | tee out/f05.gcc\n",
      "-228340810\n",
      "# take the diff of the two\n",
      "diff out/f05.gcc out/f05.minc > out/f05.diff\n",
      "# convert src/f06.c to xml/f06.xml\n",
      "python3 ../parser/minc_to_xml.py src/f06.c > xml/f06.xml\n",
      "# compile xml/f06.xml to asm with your minC compiler\n",
      "../ml/minc/_build/default/bin/main.exe xml/f06.xml asm/f06.s\n",
      "# generate the executable that calls f with your minC compiler\n",
      "gcc -o minc/f06.exe -DTEST_NO=6 main.c asm/f06.s -O0 -g\n",
      "# run the executable generated by gcc\n",
      "minc/f06.exe | tee out/f06.minc\n",
      "0\n",
      "# generate the executable that calls f with gcc\n",
      "gcc -o gcc/f06.exe -DTEST_NO=6 main.c src/f06.c -O0 -g\n",
      "# run the executable generated by gcc\n",
      "gcc/f06.exe | tee out/f06.gcc\n",
      "0\n",
      "# take the diff of the two\n",
      "diff out/f06.gcc out/f06.minc > out/f06.diff\n",
      "# convert src/f07.c to xml/f07.xml\n",
      "python3 ../parser/minc_to_xml.py src/f07.c > xml/f07.xml\n",
      "# compile xml/f07.xml to asm with your minC compiler\n",
      "../ml/minc/_build/default/bin/main.exe xml/f07.xml asm/f07.s\n",
      "# generate the executable that calls f with your minC compiler\n",
      "gcc -o minc/f07.exe -DTEST_NO=7 main.c asm/f07.s -O0 -g\n",
      "# run the executable generated by gcc\n",
      "minc/f07.exe | tee out/f07.minc\n",
      "2193746505\n",
      "# generate the executable that calls f with gcc\n",
      "gcc -o gcc/f07.exe -DTEST_NO=7 main.c src/f07.c -O0 -g\n",
      "# run the executable generated by gcc\n",
      "gcc/f07.exe | tee out/f07.gcc\n",
      "2193746505\n",
      "# take the diff of the two\n",
      "diff out/f07.gcc out/f07.minc > out/f07.diff\n",
      "# convert src/f08.c to xml/f08.xml\n",
      "python3 ../parser/minc_to_xml.py src/f08.c > xml/f08.xml\n",
      "# compile xml/f08.xml to asm with your minC compiler\n",
      "../ml/minc/_build/default/bin/main.exe xml/f08.xml asm/f08.s\n",
      "# generate the executable that calls f with your minC compiler\n",
      "gcc -o minc/f08.exe -DTEST_NO=8 main.c asm/f08.s -O0 -g\n",
      "# run the executable generated by gcc\n",
      "minc/f08.exe | tee out/f08.minc\n",
      "317572962884373914\n",
      "# generate the executable that calls f with gcc\n",
      "gcc -o gcc/f08.exe -DTEST_NO=8 main.c src/f08.c -O0 -g\n",
      "# run the executable generated by gcc\n",
      "gcc/f08.exe | tee out/f08.gcc\n",
      "317572962884373914\n",
      "# take the diff of the two\n",
      "diff out/f08.gcc out/f08.minc > out/f08.diff\n",
      "# convert src/f09.c to xml/f09.xml\n",
      "python3 ../parser/minc_to_xml.py src/f09.c > xml/f09.xml\n",
      "# compile xml/f09.xml to asm with your minC compiler\n",
      "../ml/minc/_build/default/bin/main.exe xml/f09.xml asm/f09.s\n",
      "# generate the executable that calls f with your minC compiler\n",
      "gcc -o minc/f09.exe -DTEST_NO=9 main.c asm/f09.s -O0 -g\n",
      "# run the executable generated by gcc\n",
      "minc/f09.exe | tee out/f09.minc\n",
      "0\n",
      "# generate the executable that calls f with gcc\n",
      "gcc -o gcc/f09.exe -DTEST_NO=9 main.c src/f09.c -O0 -g\n",
      "# run the executable generated by gcc\n",
      "gcc/f09.exe | tee out/f09.gcc\n",
      "0\n",
      "# take the diff of the two\n",
      "diff out/f09.gcc out/f09.minc > out/f09.diff\n",
      "# convert src/f10.c to xml/f10.xml\n",
      "python3 ../parser/minc_to_xml.py src/f10.c > xml/f10.xml\n",
      "# compile xml/f10.xml to asm with your minC compiler\n",
      "../ml/minc/_build/default/bin/main.exe xml/f10.xml asm/f10.s\n",
      "# generate the executable that calls f with your minC compiler\n",
      "gcc -o minc/f10.exe -DTEST_NO=10 main.c asm/f10.s -O0 -g\n",
      "# run the executable generated by gcc\n",
      "minc/f10.exe | tee out/f10.minc\n",
      "-157878440427458910\n",
      "# generate the executable that calls f with gcc\n",
      "gcc -o gcc/f10.exe -DTEST_NO=10 main.c src/f10.c -O0 -g\n",
      "# run the executable generated by gcc\n",
      "gcc/f10.exe | tee out/f10.gcc\n",
      "229302682\n",
      "# take the diff of the two\n",
      "diff out/f10.gcc out/f10.minc > out/f10.diff\n",
      "make: *** [Makefile:71: out/f10.diff] Error 1\n",
      "make: *** Deleting file 'out/f10.diff'\n",
      "# convert src/f11.c to xml/f11.xml\n",
      "python3 ../parser/minc_to_xml.py src/f11.c > xml/f11.xml\n",
      "# compile xml/f11.xml to asm with your minC compiler\n",
      "../ml/minc/_build/default/bin/main.exe xml/f11.xml asm/f11.s\n",
      "# generate the executable that calls f with your minC compiler\n",
      "gcc -o minc/f11.exe -DTEST_NO=11 main.c asm/f11.s -O0 -g\n",
      "# run the executable generated by gcc\n",
      "minc/f11.exe | tee out/f11.minc\n",
      "0\n",
      "# generate the executable that calls f with gcc\n",
      "gcc -o gcc/f11.exe -DTEST_NO=11 main.c src/f11.c -O0 -g\n",
      "# run the executable generated by gcc\n",
      "gcc/f11.exe | tee out/f11.gcc\n",
      "0\n",
      "# take the diff of the two\n",
      "diff out/f11.gcc out/f11.minc > out/f11.diff\n",
      "# convert src/f12.c to xml/f12.xml\n",
      "python3 ../parser/minc_to_xml.py src/f12.c > xml/f12.xml\n",
      "# compile xml/f12.xml to asm with your minC compiler\n",
      "../ml/minc/_build/default/bin/main.exe xml/f12.xml asm/f12.s\n",
      "# generate the executable that calls f with your minC compiler\n",
      "gcc -o minc/f12.exe -DTEST_NO=12 main.c asm/f12.s -O0 -g\n",
      "# run the executable generated by gcc\n",
      "minc/f12.exe | tee out/f12.minc\n",
      "1\n",
      "# generate the executable that calls f with gcc\n",
      "gcc -o gcc/f12.exe -DTEST_NO=12 main.c src/f12.c -O0 -g\n",
      "# run the executable generated by gcc\n",
      "gcc/f12.exe | tee out/f12.gcc\n",
      "1\n",
      "# take the diff of the two\n",
      "diff out/f12.gcc out/f12.minc > out/f12.diff\n",
      "# convert src/f13.c to xml/f13.xml\n",
      "python3 ../parser/minc_to_xml.py src/f13.c > xml/f13.xml\n",
      "# compile xml/f13.xml to asm with your minC compiler\n",
      "../ml/minc/_build/default/bin/main.exe xml/f13.xml asm/f13.s\n",
      "# generate the executable that calls f with your minC compiler\n",
      "gcc -o minc/f13.exe -DTEST_NO=13 main.c asm/f13.s -O0 -g\n",
      "# run the executable generated by gcc\n",
      "minc/f13.exe | tee out/f13.minc\n",
      "1\n",
      "# generate the executable that calls f with gcc\n",
      "gcc -o gcc/f13.exe -DTEST_NO=13 main.c src/f13.c -O0 -g\n",
      "# run the executable generated by gcc\n",
      "gcc/f13.exe | tee out/f13.gcc\n",
      "1\n",
      "# take the diff of the two\n",
      "diff out/f13.gcc out/f13.minc > out/f13.diff\n",
      "# convert src/f14.c to xml/f14.xml\n",
      "python3 ../parser/minc_to_xml.py src/f14.c > xml/f14.xml\n",
      "# compile xml/f14.xml to asm with your minC compiler\n",
      "../ml/minc/_build/default/bin/main.exe xml/f14.xml asm/f14.s\n",
      "# generate the executable that calls f with your minC compiler\n",
      "gcc -o minc/f14.exe -DTEST_NO=14 main.c asm/f14.s -O0 -g\n",
      "# run the executable generated by gcc\n",
      "minc/f14.exe | tee out/f14.minc\n",
      "1\n",
      "# generate the executable that calls f with gcc\n",
      "gcc -o gcc/f14.exe -DTEST_NO=14 main.c src/f14.c -O0 -g\n",
      "# run the executable generated by gcc\n",
      "gcc/f14.exe | tee out/f14.gcc\n",
      "1\n",
      "# take the diff of the two\n",
      "diff out/f14.gcc out/f14.minc > out/f14.diff\n",
      "# convert src/f15.c to xml/f15.xml\n",
      "python3 ../parser/minc_to_xml.py src/f15.c > xml/f15.xml\n",
      "# compile xml/f15.xml to asm with your minC compiler\n",
      "../ml/minc/_build/default/bin/main.exe xml/f15.xml asm/f15.s\n",
      "# generate the executable that calls f with your minC compiler\n",
      "gcc -o minc/f15.exe -DTEST_NO=15 main.c asm/f15.s -O0 -g\n",
      "# run the executable generated by gcc\n",
      "minc/f15.exe | tee out/f15.minc\n",
      "1\n",
      "# generate the executable that calls f with gcc\n",
      "gcc -o gcc/f15.exe -DTEST_NO=15 main.c src/f15.c -O0 -g\n",
      "# run the executable generated by gcc\n",
      "gcc/f15.exe | tee out/f15.gcc\n",
      "1\n",
      "# take the diff of the two\n",
      "diff out/f15.gcc out/f15.minc > out/f15.diff\n",
      "# convert src/f16.c to xml/f16.xml\n",
      "python3 ../parser/minc_to_xml.py src/f16.c > xml/f16.xml\n",
      "# compile xml/f16.xml to asm with your minC compiler\n",
      "../ml/minc/_build/default/bin/main.exe xml/f16.xml asm/f16.s\n",
      "# generate the executable that calls f with your minC compiler\n",
      "gcc -o minc/f16.exe -DTEST_NO=16 main.c asm/f16.s -O0 -g\n",
      "# run the executable generated by gcc\n",
      "minc/f16.exe | tee out/f16.minc\n",
      "0\n",
      "# generate the executable that calls f with gcc\n",
      "gcc -o gcc/f16.exe -DTEST_NO=16 main.c src/f16.c -O0 -g\n",
      "# run the executable generated by gcc\n",
      "gcc/f16.exe | tee out/f16.gcc\n",
      "0\n",
      "# take the diff of the two\n",
      "diff out/f16.gcc out/f16.minc > out/f16.diff\n",
      "# convert src/f17.c to xml/f17.xml\n",
      "python3 ../parser/minc_to_xml.py src/f17.c > xml/f17.xml\n",
      "# compile xml/f17.xml to asm with your minC compiler\n",
      "../ml/minc/_build/default/bin/main.exe xml/f17.xml asm/f17.s\n",
      "# generate the executable that calls f with your minC compiler\n",
      "gcc -o minc/f17.exe -DTEST_NO=17 main.c asm/f17.s -O0 -g\n",
      "# run the executable generated by gcc\n",
      "minc/f17.exe | tee out/f17.minc\n",
      "1000557039\n",
      "# generate the executable that calls f with gcc\n",
      "gcc -o gcc/f17.exe -DTEST_NO=17 main.c src/f17.c -O0 -g\n",
      "# run the executable generated by gcc\n",
      "gcc/f17.exe | tee out/f17.gcc\n",
      "1000557039\n",
      "# take the diff of the two\n",
      "diff out/f17.gcc out/f17.minc > out/f17.diff\n",
      "# convert src/f18.c to xml/f18.xml\n",
      "python3 ../parser/minc_to_xml.py src/f18.c > xml/f18.xml\n",
      "# compile xml/f18.xml to asm with your minC compiler\n",
      "../ml/minc/_build/default/bin/main.exe xml/f18.xml asm/f18.s\n",
      "# generate the executable that calls f with your minC compiler\n",
      "gcc -o minc/f18.exe -DTEST_NO=18 main.c asm/f18.s -O0 -g\n",
      "# run the executable generated by gcc\n",
      "minc/f18.exe | tee out/f18.minc\n",
      "230841677\n",
      "# generate the executable that calls f with gcc\n",
      "gcc -o gcc/f18.exe -DTEST_NO=18 main.c src/f18.c -O0 -g\n",
      "# run the executable generated by gcc\n",
      "gcc/f18.exe | tee out/f18.gcc\n",
      "230841677\n",
      "# take the diff of the two\n",
      "diff out/f18.gcc out/f18.minc > out/f18.diff\n",
      "# convert src/f19.c to xml/f19.xml\n",
      "python3 ../parser/minc_to_xml.py src/f19.c > xml/f19.xml\n",
      "# compile xml/f19.xml to asm with your minC compiler\n",
      "../ml/minc/_build/default/bin/main.exe xml/f19.xml asm/f19.s\n",
      "# generate the executable that calls f with your minC compiler\n",
      "gcc -o minc/f19.exe -DTEST_NO=19 main.c asm/f19.s -O0 -g\n",
      "# run the executable generated by gcc\n",
      "minc/f19.exe | tee out/f19.minc\n",
      "1474564434\n",
      "# generate the executable that calls f with gcc\n",
      "gcc -o gcc/f19.exe -DTEST_NO=19 main.c src/f19.c -O0 -g\n",
      "# run the executable generated by gcc\n",
      "gcc/f19.exe | tee out/f19.gcc\n",
      "1474564434\n",
      "# take the diff of the two\n",
      "diff out/f19.gcc out/f19.minc > out/f19.diff\n",
      "# convert src/f20.c to xml/f20.xml\n",
      "python3 ../parser/minc_to_xml.py src/f20.c > xml/f20.xml\n",
      "# compile xml/f20.xml to asm with your minC compiler\n",
      "../ml/minc/_build/default/bin/main.exe xml/f20.xml asm/f20.s\n",
      "# generate the executable that calls f with your minC compiler\n",
      "gcc -o minc/f20.exe -DTEST_NO=20 main.c asm/f20.s -O0 -g\n",
      "# run the executable generated by gcc\n",
      "minc/f20.exe | tee out/f20.minc\n",
      "1342544566\n",
      "# generate the executable that calls f with gcc\n",
      "gcc -o gcc/f20.exe -DTEST_NO=20 main.c src/f20.c -O0 -g\n",
      "# run the executable generated by gcc\n",
      "gcc/f20.exe | tee out/f20.gcc\n",
      "1342544566\n",
      "# take the diff of the two\n",
      "diff out/f20.gcc out/f20.minc > out/f20.diff\n",
      "# convert src/f21.c to xml/f21.xml\n",
      "python3 ../parser/minc_to_xml.py src/f21.c > xml/f21.xml\n",
      "# compile xml/f21.xml to asm with your minC compiler\n",
      "../ml/minc/_build/default/bin/main.exe xml/f21.xml asm/f21.s\n",
      "# generate the executable that calls f with your minC compiler\n",
      "gcc -o minc/f21.exe -DTEST_NO=21 main.c asm/f21.s -O0 -g\n",
      "# run the executable generated by gcc\n",
      "minc/f21.exe | tee out/f21.minc\n",
      "1806142094\n",
      "# generate the executable that calls f with gcc\n",
      "gcc -o gcc/f21.exe -DTEST_NO=21 main.c src/f21.c -O0 -g\n",
      "# run the executable generated by gcc\n",
      "gcc/f21.exe | tee out/f21.gcc\n",
      "1806142094\n",
      "# take the diff of the two\n",
      "diff out/f21.gcc out/f21.minc > out/f21.diff\n",
      "# convert src/f22.c to xml/f22.xml\n",
      "python3 ../parser/minc_to_xml.py src/f22.c > xml/f22.xml\n",
      "# compile xml/f22.xml to asm with your minC compiler\n",
      "../ml/minc/_build/default/bin/main.exe xml/f22.xml asm/f22.s\n",
      "# generate the executable that calls f with your minC compiler\n",
      "gcc -o minc/f22.exe -DTEST_NO=22 main.c asm/f22.s -O0 -g\n",
      "# run the executable generated by gcc\n",
      "minc/f22.exe | tee out/f22.minc\n",
      "1065991141\n",
      "# generate the executable that calls f with gcc\n",
      "gcc -o gcc/f22.exe -DTEST_NO=22 main.c src/f22.c -O0 -g\n",
      "# run the executable generated by gcc\n",
      "gcc/f22.exe | tee out/f22.gcc\n",
      "1065991141\n",
      "# take the diff of the two\n",
      "diff out/f22.gcc out/f22.minc > out/f22.diff\n",
      "# convert src/f23.c to xml/f23.xml\n",
      "python3 ../parser/minc_to_xml.py src/f23.c > xml/f23.xml\n",
      "# compile xml/f23.xml to asm with your minC compiler\n",
      "../ml/minc/_build/default/bin/main.exe xml/f23.xml asm/f23.s\n",
      "# generate the executable that calls f with your minC compiler\n",
      "gcc -o minc/f23.exe -DTEST_NO=23 main.c asm/f23.s -O0 -g\n",
      "# run the executable generated by gcc\n",
      "minc/f23.exe | tee out/f23.minc\n",
      "578831349\n",
      "# generate the executable that calls f with gcc\n",
      "gcc -o gcc/f23.exe -DTEST_NO=23 main.c src/f23.c -O0 -g\n",
      "# run the executable generated by gcc\n",
      "gcc/f23.exe | tee out/f23.gcc\n",
      "578831349\n",
      "# take the diff of the two\n",
      "diff out/f23.gcc out/f23.minc > out/f23.diff\n",
      "# convert src/f24.c to xml/f24.xml\n",
      "python3 ../parser/minc_to_xml.py src/f24.c > xml/f24.xml\n",
      "# compile xml/f24.xml to asm with your minC compiler\n",
      "../ml/minc/_build/default/bin/main.exe xml/f24.xml asm/f24.s\n",
      "# generate the executable that calls f with your minC compiler\n",
      "gcc -o minc/f24.exe -DTEST_NO=24 main.c asm/f24.s -O0 -g\n",
      "# run the executable generated by gcc\n",
      "minc/f24.exe | tee out/f24.minc\n",
      "151400083\n",
      "# generate the executable that calls f with gcc\n",
      "gcc -o gcc/f24.exe -DTEST_NO=24 main.c src/f24.c -O0 -g\n",
      "# run the executable generated by gcc\n",
      "gcc/f24.exe | tee out/f24.gcc\n",
      "151400083\n",
      "# take the diff of the two\n",
      "diff out/f24.gcc out/f24.minc > out/f24.diff\n",
      "# convert src/f25.c to xml/f25.xml\n",
      "python3 ../parser/minc_to_xml.py src/f25.c > xml/f25.xml\n",
      "# compile xml/f25.xml to asm with your minC compiler\n",
      "../ml/minc/_build/default/bin/main.exe xml/f25.xml asm/f25.s\n",
      "# generate the executable that calls f with your minC compiler\n",
      "gcc -o minc/f25.exe -DTEST_NO=25 main.c asm/f25.s -O0 -g\n",
      "# run the executable generated by gcc\n",
      "minc/f25.exe | tee out/f25.minc\n",
      "1441408575\n",
      "# generate the executable that calls f with gcc\n",
      "gcc -o gcc/f25.exe -DTEST_NO=25 main.c src/f25.c -O0 -g\n",
      "# run the executable generated by gcc\n",
      "gcc/f25.exe | tee out/f25.gcc\n",
      "1441408575\n",
      "# take the diff of the two\n",
      "diff out/f25.gcc out/f25.minc > out/f25.diff\n",
      "# convert src/f26.c to xml/f26.xml\n",
      "python3 ../parser/minc_to_xml.py src/f26.c > xml/f26.xml\n",
      "# compile xml/f26.xml to asm with your minC compiler\n",
      "../ml/minc/_build/default/bin/main.exe xml/f26.xml asm/f26.s\n",
      "# generate the executable that calls f with your minC compiler\n",
      "gcc -o minc/f26.exe -DTEST_NO=26 main.c asm/f26.s -O0 -g\n",
      "# run the executable generated by gcc\n",
      "minc/f26.exe | tee out/f26.minc\n",
      "25067\n",
      "# generate the executable that calls f with gcc\n",
      "gcc -o gcc/f26.exe -DTEST_NO=26 main.c src/f26.c -O0 -g\n",
      "# run the executable generated by gcc\n",
      "gcc/f26.exe | tee out/f26.gcc\n",
      "1398290482\n",
      "# take the diff of the two\n",
      "diff out/f26.gcc out/f26.minc > out/f26.diff\n",
      "make: *** [Makefile:71: out/f26.diff] Error 1\n",
      "make: *** Deleting file 'out/f26.diff'\n",
      "# convert src/f27.c to xml/f27.xml\n",
      "python3 ../parser/minc_to_xml.py src/f27.c > xml/f27.xml\n",
      "# compile xml/f27.xml to asm with your minC compiler\n",
      "../ml/minc/_build/default/bin/main.exe xml/f27.xml asm/f27.s\n",
      "# generate the executable that calls f with your minC compiler\n",
      "gcc -o minc/f27.exe -DTEST_NO=27 main.c asm/f27.s -O0 -g\n",
      "# run the executable generated by gcc\n",
      "minc/f27.exe | tee out/f27.minc\n",
      "281474631976392\n",
      "# generate the executable that calls f with gcc\n",
      "gcc -o gcc/f27.exe -DTEST_NO=27 main.c src/f27.c -O0 -g\n",
      "# run the executable generated by gcc\n",
      "gcc/f27.exe | tee out/f27.gcc\n",
      "709065760\n",
      "# take the diff of the two\n",
      "diff out/f27.gcc out/f27.minc > out/f27.diff\n",
      "make: *** [Makefile:71: out/f27.diff] Error 1\n",
      "make: *** Deleting file 'out/f27.diff'\n",
      "# convert src/f28.c to xml/f28.xml\n",
      "python3 ../parser/minc_to_xml.py src/f28.c > xml/f28.xml\n",
      "# compile xml/f28.xml to asm with your minC compiler\n",
      "../ml/minc/_build/default/bin/main.exe xml/f28.xml asm/f28.s\n",
      "# generate the executable that calls f with your minC compiler\n",
      "gcc -o minc/f28.exe -DTEST_NO=28 main.c asm/f28.s -O0 -g\n",
      "# run the executable generated by gcc\n",
      "minc/f28.exe | tee out/f28.minc\n",
      "281473919021520\n",
      "# generate the executable that calls f with gcc\n",
      "gcc -o gcc/f28.exe -DTEST_NO=28 main.c src/f28.c -O0 -g\n",
      "# run the executable generated by gcc\n",
      "gcc/f28.exe | tee out/f28.gcc\n",
      "980325694\n",
      "# take the diff of the two\n",
      "diff out/f28.gcc out/f28.minc > out/f28.diff\n",
      "make: *** [Makefile:71: out/f28.diff] Error 1\n",
      "make: *** Deleting file 'out/f28.diff'\n",
      "# convert src/f29.c to xml/f29.xml\n",
      "python3 ../parser/minc_to_xml.py src/f29.c > xml/f29.xml\n",
      "# compile xml/f29.xml to asm with your minC compiler\n",
      "../ml/minc/_build/default/bin/main.exe xml/f29.xml asm/f29.s\n",
      "# generate the executable that calls f with your minC compiler\n",
      "gcc -o minc/f29.exe -DTEST_NO=29 main.c asm/f29.s -O0 -g\n",
      "# run the executable generated by gcc\n",
      "minc/f29.exe | tee out/f29.minc\n",
      "259848553957176\n",
      "# generate the executable that calls f with gcc\n",
      "gcc -o gcc/f29.exe -DTEST_NO=29 main.c src/f29.c -O0 -g\n",
      "# run the executable generated by gcc\n",
      "gcc/f29.exe | tee out/f29.gcc\n",
      "1558874624\n",
      "# take the diff of the two\n",
      "diff out/f29.gcc out/f29.minc > out/f29.diff\n",
      "make: *** [Makefile:71: out/f29.diff] Error 1\n",
      "make: *** Deleting file 'out/f29.diff'\n",
      "# convert src/f30.c to xml/f30.xml\n",
      "python3 ../parser/minc_to_xml.py src/f30.c > xml/f30.xml\n",
      "# compile xml/f30.xml to asm with your minC compiler\n",
      "../ml/minc/_build/default/bin/main.exe xml/f30.xml asm/f30.s\n",
      "# generate the executable that calls f with your minC compiler\n",
      "gcc -o minc/f30.exe -DTEST_NO=30 main.c asm/f30.s -O0 -g\n",
      "# run the executable generated by gcc\n",
      "minc/f30.exe | tee out/f30.minc\n",
      "0\n",
      "# generate the executable that calls f with gcc\n",
      "gcc -o gcc/f30.exe -DTEST_NO=30 main.c src/f30.c -O0 -g\n",
      "# run the executable generated by gcc\n",
      "gcc/f30.exe | tee out/f30.gcc\n",
      "0\n",
      "# take the diff of the two\n",
      "diff out/f30.gcc out/f30.minc > out/f30.diff\n",
      "# convert src/f31.c to xml/f31.xml\n",
      "python3 ../parser/minc_to_xml.py src/f31.c > xml/f31.xml\n",
      "# compile xml/f31.xml to asm with your minC compiler\n",
      "../ml/minc/_build/default/bin/main.exe xml/f31.xml asm/f31.s\n",
      "# generate the executable that calls f with your minC compiler\n",
      "gcc -o minc/f31.exe -DTEST_NO=31 main.c asm/f31.s -O0 -g\n",
      "# run the executable generated by gcc\n",
      "minc/f31.exe | tee out/f31.minc\n",
      "38890424\n",
      "# generate the executable that calls f with gcc\n",
      "gcc -o gcc/f31.exe -DTEST_NO=31 main.c src/f31.c -O0 -g\n",
      "# run the executable generated by gcc\n",
      "gcc/f31.exe | tee out/f31.gcc\n",
      "38890424\n",
      "# take the diff of the two\n",
      "diff out/f31.gcc out/f31.minc > out/f31.diff\n",
      "# convert src/f32.c to xml/f32.xml\n",
      "python3 ../parser/minc_to_xml.py src/f32.c > xml/f32.xml\n",
      "# compile xml/f32.xml to asm with your minC compiler\n",
      "../ml/minc/_build/default/bin/main.exe xml/f32.xml asm/f32.s\n",
      "# generate the executable that calls f with your minC compiler\n",
      "gcc -o minc/f32.exe -DTEST_NO=32 main.c asm/f32.s -O0 -g\n",
      "# run the executable generated by gcc\n",
      "minc/f32.exe | tee out/f32.minc\n",
      "-1441216753\n",
      "# generate the executable that calls f with gcc\n",
      "gcc -o gcc/f32.exe -DTEST_NO=32 main.c src/f32.c -O0 -g\n",
      "# run the executable generated by gcc\n",
      "gcc/f32.exe | tee out/f32.gcc\n",
      "-1441216753\n",
      "# take the diff of the two\n",
      "diff out/f32.gcc out/f32.minc > out/f32.diff\n",
      "# convert src/f33.c to xml/f33.xml\n",
      "python3 ../parser/minc_to_xml.py src/f33.c > xml/f33.xml\n",
      "# compile xml/f33.xml to asm with your minC compiler\n",
      "../ml/minc/_build/default/bin/main.exe xml/f33.xml asm/f33.s\n",
      "# generate the executable that calls f with your minC compiler\n",
      "gcc -o minc/f33.exe -DTEST_NO=33 main.c asm/f33.s -O0 -g\n",
      "# run the executable generated by gcc\n",
      "minc/f33.exe | tee out/f33.minc\n",
      "904471228949861436\n",
      "# generate the executable that calls f with gcc\n",
      "gcc -o gcc/f33.exe -DTEST_NO=33 main.c src/f33.c -O0 -g\n",
      "# run the executable generated by gcc\n",
      "gcc/f33.exe | tee out/f33.gcc\n",
      "904471228949861436\n",
      "# take the diff of the two\n",
      "diff out/f33.gcc out/f33.minc > out/f33.diff\n",
      "# convert src/f34.c to xml/f34.xml\n",
      "python3 ../parser/minc_to_xml.py src/f34.c > xml/f34.xml\n",
      "# compile xml/f34.xml to asm with your minC compiler\n",
      "../ml/minc/_build/default/bin/main.exe xml/f34.xml asm/f34.s\n",
      "# generate the executable that calls f with your minC compiler\n",
      "gcc -o minc/f34.exe -DTEST_NO=34 main.c asm/f34.s -O0 -g\n",
      "# run the executable generated by gcc\n",
      "minc/f34.exe | tee out/f34.minc\n",
      "1\n",
      "# generate the executable that calls f with gcc\n",
      "gcc -o gcc/f34.exe -DTEST_NO=34 main.c src/f34.c -O0 -g\n",
      "# run the executable generated by gcc\n",
      "gcc/f34.exe | tee out/f34.gcc\n",
      "1\n",
      "# take the diff of the two\n",
      "diff out/f34.gcc out/f34.minc > out/f34.diff\n",
      "# convert src/f35.c to xml/f35.xml\n",
      "python3 ../parser/minc_to_xml.py src/f35.c > xml/f35.xml\n",
      "# compile xml/f35.xml to asm with your minC compiler\n",
      "../ml/minc/_build/default/bin/main.exe xml/f35.xml asm/f35.s\n",
      "# generate the executable that calls f with your minC compiler\n",
      "gcc -o minc/f35.exe -DTEST_NO=35 main.c asm/f35.s -O0 -g\n",
      "# run the executable generated by gcc\n",
      "minc/f35.exe | tee out/f35.minc\n",
      "0\n",
      "# generate the executable that calls f with gcc\n",
      "gcc -o gcc/f35.exe -DTEST_NO=35 main.c src/f35.c -O0 -g\n",
      "# run the executable generated by gcc\n",
      "gcc/f35.exe | tee out/f35.gcc\n",
      "0\n",
      "# take the diff of the two\n",
      "diff out/f35.gcc out/f35.minc > out/f35.diff\n",
      "# convert src/f36.c to xml/f36.xml\n",
      "python3 ../parser/minc_to_xml.py src/f36.c > xml/f36.xml\n",
      "# compile xml/f36.xml to asm with your minC compiler\n",
      "../ml/minc/_build/default/bin/main.exe xml/f36.xml asm/f36.s\n",
      "# generate the executable that calls f with your minC compiler\n",
      "gcc -o minc/f36.exe -DTEST_NO=36 main.c asm/f36.s -O0 -g\n",
      "# run the executable generated by gcc\n",
      "minc/f36.exe | tee out/f36.minc\n",
      "0\n",
      "# generate the executable that calls f with gcc\n",
      "gcc -o gcc/f36.exe -DTEST_NO=36 main.c src/f36.c -O0 -g\n",
      "# run the executable generated by gcc\n",
      "gcc/f36.exe | tee out/f36.gcc\n",
      "0\n",
      "# take the diff of the two\n",
      "diff out/f36.gcc out/f36.minc > out/f36.diff\n",
      "# convert src/f37.c to xml/f37.xml\n",
      "python3 ../parser/minc_to_xml.py src/f37.c > xml/f37.xml\n",
      "# compile xml/f37.xml to asm with your minC compiler\n",
      "../ml/minc/_build/default/bin/main.exe xml/f37.xml asm/f37.s\n",
      "# generate the executable that calls f with your minC compiler\n",
      "gcc -o minc/f37.exe -DTEST_NO=37 main.c asm/f37.s -O0 -g\n",
      "# run the executable generated by gcc\n",
      "minc/f37.exe | tee out/f37.minc\n",
      "0\n",
      "# generate the executable that calls f with gcc\n",
      "gcc -o gcc/f37.exe -DTEST_NO=37 main.c src/f37.c -O0 -g\n",
      "# run the executable generated by gcc\n",
      "gcc/f37.exe | tee out/f37.gcc\n",
      "0\n",
      "# take the diff of the two\n",
      "diff out/f37.gcc out/f37.minc > out/f37.diff\n",
      "# convert src/f38.c to xml/f38.xml\n",
      "python3 ../parser/minc_to_xml.py src/f38.c > xml/f38.xml\n",
      "# compile xml/f38.xml to asm with your minC compiler\n",
      "../ml/minc/_build/default/bin/main.exe xml/f38.xml asm/f38.s\n",
      "# generate the executable that calls f with your minC compiler\n",
      "gcc -o minc/f38.exe -DTEST_NO=38 main.c asm/f38.s -O0 -g\n",
      "# run the executable generated by gcc\n",
      "minc/f38.exe | tee out/f38.minc\n",
      "0\n",
      "# generate the executable that calls f with gcc\n",
      "gcc -o gcc/f38.exe -DTEST_NO=38 main.c src/f38.c -O0 -g\n",
      "# run the executable generated by gcc\n",
      "gcc/f38.exe | tee out/f38.gcc\n",
      "0\n",
      "# take the diff of the two\n",
      "diff out/f38.gcc out/f38.minc > out/f38.diff\n",
      "# convert src/f39.c to xml/f39.xml\n",
      "python3 ../parser/minc_to_xml.py src/f39.c > xml/f39.xml\n",
      "# compile xml/f39.xml to asm with your minC compiler\n",
      "../ml/minc/_build/default/bin/main.exe xml/f39.xml asm/f39.s\n",
      "# generate the executable that calls f with your minC compiler\n",
      "gcc -o minc/f39.exe -DTEST_NO=39 main.c asm/f39.s -O0 -g\n",
      "# run the executable generated by gcc\n",
      "minc/f39.exe | tee out/f39.minc\n",
      "-5638435376482423232\n",
      "# generate the executable that calls f with gcc\n",
      "gcc -o gcc/f39.exe -DTEST_NO=39 main.c src/f39.c -O0 -g\n",
      "# run the executable generated by gcc\n",
      "gcc/f39.exe | tee out/f39.gcc\n",
      "55169339242060849\n",
      "# take the diff of the two\n",
      "diff out/f39.gcc out/f39.minc > out/f39.diff\n",
      "make: *** [Makefile:71: out/f39.diff] Error 1\n",
      "make: *** Deleting file 'out/f39.diff'\n",
      "# convert src/f40.c to xml/f40.xml\n",
      "python3 ../parser/minc_to_xml.py src/f40.c > xml/f40.xml\n",
      "# compile xml/f40.xml to asm with your minC compiler\n",
      "../ml/minc/_build/default/bin/main.exe xml/f40.xml asm/f40.s\n",
      "# generate the executable that calls f with your minC compiler\n",
      "gcc -o minc/f40.exe -DTEST_NO=40 main.c asm/f40.s -O0 -g\n",
      "# run the executable generated by gcc\n",
      "minc/f40.exe | tee out/f40.minc\n",
      "582513764\n",
      "# generate the executable that calls f with gcc\n",
      "gcc -o gcc/f40.exe -DTEST_NO=40 main.c src/f40.c -O0 -g\n",
      "# run the executable generated by gcc\n",
      "gcc/f40.exe | tee out/f40.gcc\n",
      "582513764\n",
      "# take the diff of the two\n",
      "diff out/f40.gcc out/f40.minc > out/f40.diff\n",
      "# convert src/f41.c to xml/f41.xml\n",
      "python3 ../parser/minc_to_xml.py src/f41.c > xml/f41.xml\n",
      "# compile xml/f41.xml to asm with your minC compiler\n",
      "../ml/minc/_build/default/bin/main.exe xml/f41.xml asm/f41.s\n",
      "# generate the executable that calls f with your minC compiler\n",
      "gcc -o minc/f41.exe -DTEST_NO=41 main.c asm/f41.s -O0 -g\n",
      "# run the executable generated by gcc\n",
      "minc/f41.exe | tee out/f41.minc\n",
      "281474000352288\n",
      "# generate the executable that calls f with gcc\n",
      "gcc -o gcc/f41.exe -DTEST_NO=41 main.c src/f41.c -O0 -g\n",
      "# run the executable generated by gcc\n",
      "gcc/f41.exe | tee out/f41.gcc\n",
      "200\n",
      "# take the diff of the two\n",
      "diff out/f41.gcc out/f41.minc > out/f41.diff\n",
      "make: *** [Makefile:71: out/f41.diff] Error 1\n",
      "make: *** Deleting file 'out/f41.diff'\n",
      "# convert src/f42.c to xml/f42.xml\n",
      "python3 ../parser/minc_to_xml.py src/f42.c > xml/f42.xml\n",
      "# compile xml/f42.xml to asm with your minC compiler\n",
      "../ml/minc/_build/default/bin/main.exe xml/f42.xml asm/f42.s\n",
      "# generate the executable that calls f with your minC compiler\n",
      "gcc -o minc/f42.exe -DTEST_NO=42 main.c asm/f42.s -O0 -g\n",
      "# run the executable generated by gcc\n",
      "minc/f42.exe | tee out/f42.minc\n",
      "0\n",
      "# generate the executable that calls f with gcc\n",
      "gcc -o gcc/f42.exe -DTEST_NO=42 main.c src/f42.c -O0 -g\n",
      "# run the executable generated by gcc\n",
      "gcc/f42.exe | tee out/f42.gcc\n",
      "2817369268212960\n",
      "# take the diff of the two\n",
      "diff out/f42.gcc out/f42.minc > out/f42.diff\n",
      "make: *** [Makefile:71: out/f42.diff] Error 1\n",
      "make: *** Deleting file 'out/f42.diff'\n",
      "# convert src/f43.c to xml/f43.xml\n",
      "python3 ../parser/minc_to_xml.py src/f43.c > xml/f43.xml\n",
      "# compile xml/f43.xml to asm with your minC compiler\n",
      "../ml/minc/_build/default/bin/main.exe xml/f43.xml asm/f43.s\n",
      "# generate the executable that calls f with your minC compiler\n",
      "gcc -o minc/f43.exe -DTEST_NO=43 main.c asm/f43.s -O0 -g\n",
      "# run the executable generated by gcc\n",
      "minc/f43.exe | tee out/f43.minc\n",
      "make: *** Deleting file 'out/f43.minc'\n",
      "make: *** [Makefile:56: out/f43.minc] Interrupt\n",
      "\n"
     ]
    }
   ],
   "source": [
    "cd ~/notebooks/pl08_minc/test\n",
    "make -B -k"
   ]
  },
  {
   "cell_type": "markdown",
   "metadata": {
    "deletable": false,
    "editable": false,
    "kernel": "SoS",
    "nbgrader": {
     "cell_type": "markdown",
     "checksum": "89e4ab0aa83b7a2e2b1f2f169ca17c1f",
     "grade": false,
     "grade_id": "c-058",
     "locked": true,
     "schema_version": 3,
     "solution": false,
     "task": false
    }
   },
   "source": [
    "* write the summary of tests that passed/failed, in the online Excel `teamXX/pl08_minc/results.xlsx`\n",
    " * P : passed\n",
    " * C : cannot assemble (your compiler fails to produce assembly)\n",
    " * I : invalid assembly (your compiler produced an assembly code but it does not compile with gcc)\n",
    " * R : runtime error (your compiler produced an executable, but it does not terminate successfully)\n",
    " * W : wrong result (your compiler produced an executable that terminates successfully, but the output result is different from that of gcc-generated executable)\n",
    "\n",
    "* members of each team must get togeter at least once to show their test results each other\n",
    "* you are encouraged to get together with team members working on this option in other occassions to discuss progress and help each other (team members working on other options are not requierd to participate)"
   ]
  },
  {
   "cell_type": "markdown",
   "metadata": {
    "deletable": false,
    "editable": false,
    "kernel": "SoS",
    "nbgrader": {
     "cell_type": "markdown",
     "checksum": "30484aea895c9ccf2c1404ff5eae8086",
     "grade": false,
     "grade_id": "c-059",
     "locked": true,
     "schema_version": 3,
     "solution": false,
     "task": false
    }
   },
   "source": [
    "\n",
    "* <font color=red>before submitting your work, make sure you clean up your working directory,</font>  in the manner described in [Writing standalone programs using libraries](https://taura.github.io/programming-languages/html/errata/pl04_standalone.sos.html)"
   ]
  },
  {
   "cell_type": "markdown",
   "metadata": {
    "deletable": false,
    "editable": false,
    "kernel": "SoS",
    "nbgrader": {
     "cell_type": "markdown",
     "checksum": "e80404b38a585abf68f1cc78e972854d",
     "grade": false,
     "grade_id": "c-060",
     "locked": true,
     "schema_version": 3,
     "solution": false,
     "task": false
    }
   },
   "source": [
    "* Go"
   ]
  },
  {
   "cell_type": "code",
   "execution_count": null,
   "metadata": {
    "kernel": "Bash",
    "nbgrader": {
     "grade": false,
     "grade_id": "c-061",
     "locked": false,
     "schema_version": 3,
     "solution": false,
     "task": false
    },
    "vscode": {
     "languageId": "ocaml"
    }
   },
   "outputs": [],
   "source": [
    "cd ~/notebooks/pl08_minc/go/minc\n",
    "go clean"
   ]
  },
  {
   "cell_type": "markdown",
   "metadata": {
    "deletable": false,
    "editable": false,
    "kernel": "SoS",
    "nbgrader": {
     "cell_type": "markdown",
     "checksum": "c6c3ee04c8eb61d6d430bc1f490f6906",
     "grade": false,
     "grade_id": "c-062",
     "locked": true,
     "schema_version": 3,
     "solution": false,
     "task": false
    }
   },
   "source": [
    "* OCaml\n",
    "  * ignore `Error: rmdir(_build): Directory not empty` if you see it (I don't know why it happens)\n",
    "  "
   ]
  },
  {
   "cell_type": "code",
   "execution_count": null,
   "metadata": {
    "kernel": "Bash",
    "nbgrader": {
     "grade": false,
     "grade_id": "c-063",
     "locked": false,
     "schema_version": 3,
     "solution": false,
     "task": false
    },
    "vscode": {
     "languageId": "ocaml"
    }
   },
   "outputs": [],
   "source": [
    "cd ~/notebooks/pl08_minc/ml/minc\n",
    "dune clean"
   ]
  },
  {
   "cell_type": "markdown",
   "metadata": {
    "deletable": false,
    "editable": false,
    "kernel": "SoS",
    "nbgrader": {
     "cell_type": "markdown",
     "checksum": "f2dbbbd41f047d213709e28c0ad1ae13",
     "grade": false,
     "grade_id": "c-064",
     "locked": true,
     "schema_version": 3,
     "solution": false,
     "task": false
    }
   },
   "source": [
    "* Rust"
   ]
  },
  {
   "cell_type": "code",
   "execution_count": 97,
   "metadata": {
    "kernel": "Bash",
    "nbgrader": {
     "grade": false,
     "grade_id": "c-065",
     "locked": false,
     "schema_version": 3,
     "solution": false,
     "task": false
    },
    "vscode": {
     "languageId": "ocaml"
    }
   },
   "outputs": [
    {
     "name": "stdout",
     "output_type": "stream",
     "text": [
      "Command 'cargo' not found, but can be installed with:\n",
      "snap install rustup  # version 1.27.1, or\n",
      "apt  install cargo   # version 1.75.0+dfsg0ubuntu1-0ubuntu7.1\n",
      "apt  install rustup  # version 1.26.0-3\n",
      "See 'snap info rustup' for additional versions.\n"
     ]
    },
    {
     "ename": "",
     "evalue": "127",
     "output_type": "error",
     "traceback": []
    }
   ],
   "source": [
    "cd ~/notebooks/pl08_minc/rs/minc\n",
    "cargo clean"
   ]
  },
  {
   "cell_type": "markdown",
   "metadata": {
    "deletable": false,
    "editable": false,
    "kernel": "SoS",
    "nbgrader": {
     "cell_type": "markdown",
     "checksum": "a635795ff832206424dcde7879486985",
     "grade": false,
     "grade_id": "c-066",
     "locked": true,
     "schema_version": 3,
     "solution": false,
     "task": false
    }
   },
   "source": [
    "* <font color=\"red\">also make sure you execute `make clean` in the test directory</font>"
   ]
  },
  {
   "cell_type": "code",
   "execution_count": null,
   "metadata": {
    "kernel": "Bash",
    "nbgrader": {
     "grade": false,
     "grade_id": "c-067",
     "locked": false,
     "schema_version": 3,
     "solution": false,
     "task": false
    },
    "vscode": {
     "languageId": "ocaml"
    }
   },
   "outputs": [],
   "source": [
    "cd ~/notebooks/pl08_minc/test\n",
    "make clean"
   ]
  },
  {
   "cell_type": "markdown",
   "metadata": {
    "deletable": false,
    "editable": false,
    "kernel": "SoS",
    "nbgrader": {
     "cell_type": "markdown",
     "checksum": "2c624f896e3210730def4aa67a62a702",
     "grade": false,
     "grade_id": "c-068",
     "locked": true,
     "schema_version": 3,
     "solution": false,
     "task": false
    }
   },
   "source": [
    "* submit your work through Jupyter (modify and add files in place under `~/notebooks/pl08_minc`); make sure you execute the above cell (`make -B -k`)\n",
    "* submit \"Term Report Option A (pl08_minc; build a compiler)\" through UTOL\n",
    "* all the essential work is submitted through Juptyer and Excel; you only have to submit a brief report to UTOL\n",
    "\n",
    "## 7-2. Extra points [Level 2+]\n",
    "* you get extra points by doing more than required above\n",
    "\n",
    "* you can extend the minC language in any ways, but possible extensions include (but are not limited to):\n",
    "  * syntactic extensions\n",
    "    * [difficulty level 2] for loop\n",
    "    * [difficulty level 2.5] initializing declaration (e.g., int x = y + 2)\n",
    "  * type extensions and type checks\n",
    "    * note that supporting a type other than long requires the compiler know the type of an expression; it's a heavy lifting\n",
    "    * [difficulty level 3] pointers (long*, long**, etc.)\n",
    "    * [difficulty level 4] floating point numbers (double)\n",
    "    * [difficulty level 5] types of different sizes (int, float)\n",
    "    * [difficulty level 6] structures and typedefs\n",
    "  * optimization\n",
    "    * use registers more aggressively\n",
    "    * inline-expand function calls\n",
    "\n",
    "* if you have done extra work beyond requirements, describe what you did in the extra.docx. clearly indicate the author of each section (who did what)"
   ]
  }
 ],
 "metadata": {
  "kernelspec": {
   "display_name": "Bash",
   "language": "bash",
   "name": "bash"
  },
  "language_info": {
   "codemirror_mode": "shell",
   "file_extension": ".sh",
   "mimetype": "text/x-sh",
   "name": "bash"
  },
  "sos": {
   "kernels": [
    [
     "Bash",
     "bash",
     "bash",
     "",
     "shell"
    ],
    [
     "C",
     "c_kernel",
     "c",
     "",
     ""
    ],
    [
     "Go",
     "gophernotes",
     "go",
     "",
     ""
    ],
    [
     "Julia 1.11.4",
     "julia-1.11",
     "julia",
     "",
     ""
    ],
    [
     "OCaml 4.14.2",
     "ocaml-jupyter",
     "OCaml",
     "",
     "text/x-ocaml"
    ],
    [
     "Python 3 (ipykernel)",
     "python3",
     "python3",
     "",
     {
      "name": "ipython",
      "version": 3
     }
    ],
    [
     "Rust",
     "rust",
     "rust",
     "",
     ""
    ]
   ],
   "panel": {
    "displayed": true,
    "height": 0
   },
   "version": "0.23.3"
  }
 },
 "nbformat": 4,
 "nbformat_minor": 4
}
